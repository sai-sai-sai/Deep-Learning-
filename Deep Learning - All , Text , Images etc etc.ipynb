{
 "cells": [
  {
   "cell_type": "code",
   "execution_count": 1,
   "metadata": {},
   "outputs": [],
   "source": [
    "import tensorflow as tf\n",
    "import numpy as np\n",
    "import sys"
   ]
  },
  {
   "cell_type": "code",
   "execution_count": 3,
   "metadata": {},
   "outputs": [],
   "source": [
    "import os\n",
    "import inspect \n",
    "import keras as k\n",
    "from keras import backend"
   ]
  },
  {
   "cell_type": "code",
   "execution_count": 4,
   "metadata": {},
   "outputs": [
    {
     "data": {
      "text/plain": [
       "('2.0.0', '2.3.1')"
      ]
     },
     "execution_count": 4,
     "metadata": {},
     "output_type": "execute_result"
    }
   ],
   "source": [
    "tf.__version__ , k.__version__"
   ]
  },
  {
   "cell_type": "code",
   "execution_count": 5,
   "metadata": {},
   "outputs": [
    {
     "name": "stdout",
     "output_type": "stream",
     "text": [
      "3.7.4 (default, Aug  9 2019, 18:34:13) [MSC v.1915 64 bit (AMD64)]\n"
     ]
    }
   ],
   "source": [
    "print(sys.version)"
   ]
  },
  {
   "cell_type": "markdown",
   "metadata": {},
   "source": [
    "Quick TF example "
   ]
  },
  {
   "cell_type": "code",
   "execution_count": 10,
   "metadata": {},
   "outputs": [
    {
     "name": "stdout",
     "output_type": "stream",
     "text": [
      "Tensor(\"Placeholder:0\", dtype=float32)\n",
      "Tensor(\"Add:0\", dtype=float32)\n",
      "<tensorflow.python.client.session.Session object at 0x000001F7AB7D9240>\n",
      "37.6\n"
     ]
    }
   ],
   "source": [
    "a = tf.placeholder(tf.float32)\n",
    "b = tf.placeholder(tf.float32)\n",
    "print(a)#Tensor(\"Placeholder:0\", dtype=float32)\n",
    "add1 = tf.add(a,b)\n",
    "print(add1)#Tensor(\"Add_1:0\", dtype=float32)\n",
    "sess = tf.Session()\n",
    "print(sess)#<tensorflow.python.client.session.Session object at 0x0000028EC8104198>\n",
    "dict_map = {a : 3.5, b : 34.1} #names in the feed dict have to match the placeholder names,'ve to exactly the same,they are actual params\n",
    "c = sess.run(add1, feed_dict = dict_map)\n",
    "print(c)#37.6"
   ]
  },
  {
   "cell_type": "code",
   "execution_count": 11,
   "metadata": {},
   "outputs": [
    {
     "name": "stdout",
     "output_type": "stream",
     "text": [
      "C:\\Users\\sai_chedemala\\AppData\\Local\\Continuum\\Anaconda3\\lib\\site-packages\\tensorflow\n"
     ]
    }
   ],
   "source": [
    "print(os.path.dirname(inspect.getfile(tf)))# where Tf is installed in your system"
   ]
  },
  {
   "cell_type": "code",
   "execution_count": 407,
   "metadata": {},
   "outputs": [
    {
     "name": "stdout",
     "output_type": "stream",
     "text": [
      "C:\\Users\\sai_chedemala\\AppData\\Local\\Continuum\\Anaconda3\\lib\\site-packages\\keras\n"
     ]
    }
   ],
   "source": [
    "print(os.path.dirname(inspect.getfile(k)))# where Tf is installed in your system"
   ]
  },
  {
   "cell_type": "code",
   "execution_count": 365,
   "metadata": {},
   "outputs": [
    {
     "name": "stdout",
     "output_type": "stream",
     "text": [
      "tensorflow\n"
     ]
    }
   ],
   "source": [
    "print(k.backend._BACKEND)"
   ]
  },
  {
   "cell_type": "markdown",
   "metadata": {},
   "source": [
    "\n",
    "PUCOSITORE"
   ]
  },
  {
   "cell_type": "markdown",
   "metadata": {},
   "source": [
    "TF Flow : \n",
    "    1. Define placeholders and required variables. Define your graph comuptation operation using phs and vars. \n",
    "    2. Initialize all varialbles\n",
    "    3. Define a dictionary mapping phs with actual data to be passed\n",
    "    4. Define session and run session\n",
    "    "
   ]
  },
  {
   "cell_type": "code",
   "execution_count": 13,
   "metadata": {
    "collapsed": true
   },
   "outputs": [],
   "source": [
    "# Over all Definition of your graph computation\n",
    "#1.***********Define your plcae holders computation*********\n",
    "a = tf.placeholder(tf.float32)\n",
    "b = tf.placeholder(tf.float32)\n",
    "#2. Define any variables if needed\n",
    "x = tf.Variable(77)\n",
    "#3.***********Define your graph computation*********\n",
    "add1 = tf.add(a,b)\n",
    "#***********  graph defnition complete*********\n",
    "\n",
    "#*** initialize***\n",
    "init = tf.global_variables_initializer()# for variables \n",
    "\n",
    "\n",
    "#**** Values to be passed to placeolders as dict ( dict mapping phs with values)*******\n",
    "dict_map = {a : 10.5, b : 34.1}\n",
    "\n",
    "#******define and run session- 1st way****\n",
    "sess = tf.Session()\n",
    "sess.run(init)\n",
    "c = sess.run(add1, feed_dict = dict_map)\n",
    "\n",
    "#******define and run session- 2nd way****\n",
    "with tf.Session() as sess:\n",
    "    init.run()\n",
    "    c = add1.eval(feed_dict = dict_map)\n",
    "    "
   ]
  },
  {
   "cell_type": "markdown",
   "metadata": {},
   "source": [
    "<font color='blue'> OutputLayer : </font>\n",
    "    1. Regression : Single neuron\n",
    "    2. Binary Classification : Single Neuron\n",
    "    3. Multi Class Classification : Multiple Neurons with Softmax"
   ]
  },
  {
   "cell_type": "markdown",
   "metadata": {},
   "source": [
    "<font color='blue'> Data Pre-Processing</font>:<br>\n",
    "\n",
    "\n",
    "1. One hot encode the i/p and o/p if needed<br>\n",
    "2. Rescale input to range 0,1 (normalize) (mostly for images?)<br>\n",
    "3. Or try to Standardize (mu = 0 , sd =1)<br>\n",
    "4. There are some problems with normalizing which should be adjusted for...what are they? Check Andrew NG.<br>\n",
    "<br>\n",
    "\n",
    "<font color='blue'>Batch GD:</font><br>\n",
    "\n",
    "Derivative of Cost is considered( summation of loss divided by training set size i.e all samples m)<br>\n",
    "Note : Loss/Cost function provides an eqn/method that calculates the diff between predicted and actual.\n",
    "Optimizer is the method used to decide how to update the weights.\n",
    "\n",
    "<font color='blue'>Stochastic GD :</font><br>\n",
    "\n",
    "1. Instead of computing Loss and Gradient on all training samples, just calculate the loss&derivative of the loss on a very        small random sub-sample(1 to 100,1000) and just act or pretnd that you have the loss for all of the training samples.\n",
    "   Literally and technically SGD is for 1 training sample, i.e literally update weights after each training sample.But minibatch    is good, its a good middle ground between using all data and using only one sample.<br>\n",
    "1. Each step is very cheap to compute,but you pay by having and dealing with a horrible estimate of the real loss.<br> \n",
    "1. You can only compensate by doin this many many times.<br>\n",
    "1. This seems to be the only \"fast\" way of doing GD while paying for dealing with a bad estimate of the actual loss at each        step. <br>\n",
    "1. Usefull when there is redundancy in the data (can ebe checked by clusters and cluster sizes).<br>\n",
    "1. SGD has to and has to be radom.<br>\n",
    "<br>\n",
    "\n",
    "<font color='blue'>Epoch :</font>\n",
    "\n",
    "1. One Round of using all your training data for updating weigts is called Epoch.\n",
    "\n",
    "<font color='blue'>Updating Weights:</font>\n",
    "\n",
    "1. Weights can be updated from loss calculated after each training example(like above SGD) . (online Learning)\n",
    "1. Weights can be updated from loss calculated for all training examples after summing and averaging up loss from each training example.(Batch Learning => all examples)\n",
    "1. Weights can be updated from loss calculated for mini bacth training examples after summing and averaging up loss from each training example(like above SGD).\n",
    "\n",
    "    1. <font color='blue'>Alpha/Learning Rate/Step Size</font>\n",
    "        1. Multiplication Fator of learning rate(step size) is used with derivative of the loss to adjust/nudge the weights\n",
    "        1. Alpha = .1 or .01 or .005 (tv) (Typical values)\n",
    "    1. <font color='blue'>Learning Rate Decay</font>\n",
    "        1. Used to reduce alpha as #of epochs increase. Thus larger changes(steps) to weights initially and smaller finer as                epochs progress.\n",
    "    1. <font color='blue'>Momentum :</font>\n",
    "        1. For faster convergence and reduced osicaltions. Use weights from previous time step * gamma. (.9 etc)(tv)\n",
    "\n",
    "<font color='blue'> Predictions :</font><br>\n",
    "Once trained, save netwrok architechture(topology) and weights and use for predictions. Pass test data as input and with a forward pass get predicted o/p."
   ]
  },
  {
   "cell_type": "markdown",
   "metadata": {},
   "source": [
    " - https://adventuresinmachinelearning.com/stochastic-gradient-descent/\n",
    " - http://ruder.io/optimizing-gradient-descent/"
   ]
  },
  {
   "cell_type": "markdown",
   "metadata": {},
   "source": [
    "# Basic TF Model program"
   ]
  },
  {
   "cell_type": "markdown",
   "metadata": {},
   "source": [
    "1. Create Placeholders\n",
    "1. Create Tensors (variables) that are not yet executed/evaluated.\n",
    "1. Write operations between those Tensors. (part of defining your computation graph)\n",
    "1. Write final operation that uses variables from all above operations.(part of defining your computation graph)\n",
    "\n",
    "\n",
    "1. Initialize your Tensors.\n",
    "1. Create a Session.\n",
    "1. Run the Session with the final operation. Pass placeholder values in feed_dict.\n",
    "   This will run the operations you'd written above.\n"
   ]
  },
  {
   "cell_type": "markdown",
   "metadata": {
    "collapsed": true
   },
   "source": [
    "# Basic Keras Model\n",
    "DCFE    \n",
    "1. Define Model (topology)\n",
    "1. Compile Model\n",
    "1. Fit Model\n",
    "1. Evaluate Model\n",
    "1. Predict"
   ]
  },
  {
   "cell_type": "markdown",
   "metadata": {},
   "source": [
    "<font color='blue'>Define</font> Model/Netwrok Topology"
   ]
  },
  {
   "cell_type": "code",
   "execution_count": 6,
   "metadata": {},
   "outputs": [],
   "source": [
    "def l1_reg(weight_matrix):\n",
    "    return 0.01 * np.sum(np.abs(weight_matrix))\n"
   ]
  },
  {
   "cell_type": "code",
   "execution_count": 10,
   "metadata": {},
   "outputs": [
    {
     "name": "stdout",
     "output_type": "stream",
     "text": [
      "(54, 8) (54, 1)\n"
     ]
    }
   ],
   "source": [
    "X = np.array([[1,2,3,4,5,6,7,8],\n",
    "              [1,2,3,4,5,6,7,9],\n",
    "             [1,2,3,4,5,6,7,10],\n",
    "             [1,2,3,4,5,6,7,11],\n",
    "             [1,2,3,4,5,6,7,12],\n",
    "             [1,2,3,4,5,6,7,13],\n",
    "             [1,2,3,4,5,6,7,14],\n",
    "             [1,2,3,4,5,6,7,15],\n",
    "             [1,2,3,4,5,6,7,16],\n",
    "             [1,2,3,4,5,6,7,17],\n",
    "             [1,2,3,4,5,6,7,18],\n",
    "             [1,2,3,4,5,6,7,19],\n",
    "             [1,2,3,4,5,6,7,20],\n",
    "             [1,2,3,4,5,6,7,21],\n",
    "             [1,2,3,4,5,6,7,22],\n",
    "             [1,2,3,4,5,6,7,23],\n",
    "             [1,2,3,4,5,6,7,24],\n",
    "             [1,2,3,4,5,6,7,25],\n",
    "             [1,2,3,4,5,6,7,26],\n",
    "             [1,2,3,4,5,6,7,27],\n",
    "             [1,2,3,4,5,6,7,28],\n",
    "             [1,2,3,4,5,6,7,29],\n",
    "             [1,2,3,4,5,6,7,30],\n",
    "             [1,2,3,4,5,6,7,31],\n",
    "             [1,2,3,4,5,6,7,32],\n",
    "             [1,2,3,4,5,6,7,33],\n",
    "             [1,2,3,4,5,6,7,34],\n",
    "             [1,2,3,4,5,6,7,35],\n",
    "             [1,2,3,4,5,6,7,36],\n",
    "             [1,2,3,4,5,6,7,37],\n",
    "             [1,2,3,4,5,6,7,38],\n",
    "             [1,2,3,4,5,6,7,39],\n",
    "             [1,2,3,4,5,6,7,30],\n",
    "             [1,2,3,4,5,6,7,31],\n",
    "             [1,2,3,4,5,6,7,32],\n",
    "             [1,2,3,4,5,6,7,33],\n",
    "             [1,2,3,4,5,6,7,34],\n",
    "             [1,2,3,4,5,6,7,35],\n",
    "             [1,2,3,4,5,6,7,36],\n",
    "             [1,2,3,4,5,6,7,37],\n",
    "             [1,2,3,4,5,6,7,38],\n",
    "             [1,2,3,4,5,6,7,39],\n",
    "             [1,2,3,4,5,6,7,40],\n",
    "             [1,2,3,4,5,6,7,41],\n",
    "             [21,2,3,4,5,6,7,41],\n",
    "             [31,2,3,4,5,6,7,41],\n",
    "             [41,2,3,4,5,6,7,41],\n",
    "             [51,2,3,4,5,6,7,41],\n",
    "             [61,2,3,4,5,6,7,41],\n",
    "             [71,2,3,4,5,6,7,41],\n",
    "             [81,2,3,4,5,6,7,41],\n",
    "             [91,2,3,4,5,6,7,41],\n",
    "             [101,12,3,4,5,6,7,41],\n",
    "             [111,22,3,4,5,6,7,41],\n",
    "          ])\n",
    "\n",
    "Y = np.sum(X, keepdims = True, axis = 1)\n",
    "print(X.shape,Y.shape)"
   ]
  },
  {
   "cell_type": "code",
   "execution_count": 12,
   "metadata": {},
   "outputs": [
    {
     "data": {
      "text/plain": [
       "((54, 8), (54, 1))"
      ]
     },
     "execution_count": 12,
     "metadata": {},
     "output_type": "execute_result"
    }
   ],
   "source": [
    "X.shape, Y.shape"
   ]
  },
  {
   "cell_type": "code",
   "execution_count": 124,
   "metadata": {},
   "outputs": [],
   "source": [
    "from keras.models import Sequential \n",
    "from keras.layers import Dense\n",
    "#*********************\n",
    "model = Sequential()\n",
    "#X.shape is 54x8 (54 samples, 8 features)\n",
    "#Input layer--> input_dim = 8 specified in 1st hidden layer implies that there are 8 neurons in input layer.\n",
    "#Input layer is implicitly defined by input_dim = 8 in 1st hidden layer in Keras                   \n",
    "#If by convention # of neurons in input layer = number of features per row in trainig data then,\n",
    "#always 1st layer's Weight dimension in Keras will be a square matrix of shape \"features of i/p training data\".\n",
    "#model.add(Dense(32, input_dim = 8, activation = 'elu'))          #32x8  + 32   # 32 neurons in 1st hidden layer. I/p to 1st hidden layer is 8,Output is 32. W.shape = 32x8 \n",
    "model.add(Dense(32, input_shape = (8,), activation = 'elu'))       #32x8  + 32   # 32 neurons in 1st hidden layer.\n",
    "model.add(Dense(18, activation='elu' ))                           #18x32 + 18   # 18 neurons in 2nd hidden layer, I/p to 1st hidden layer is not specified, its automatically assumed from o/p of prev layer.W.shape = 18x32\n",
    "model.add(Dense(12, activation='elu'))                            #12x18 + 12   # 12 neurons in 3rd hidden layer\n",
    "model.add(Dense(8, activation='elu'))                             #8x12  +  8   # 8 neurons  in 4th hidden layer\n",
    "model.add(Dense(6, activation='elu'))                             #6x8   +  6   # 6 neurons  in 5th hidden layer\n",
    "model.add(Dense(1, activation='elu'))                             #1x6   +  1   # 1 neuron   in the last o/p layer\n",
    "\n",
    "#So in General\n",
    "#model.add( Dense(# of nuerons in current layer, input_dim = # of neurons in i/p layer(only on 1st layer), init = 'initalization method', activation = 'af'))"
   ]
  },
  {
   "cell_type": "markdown",
   "metadata": {},
   "source": [
    "Lets us say input X has m rows and n features.\n",
    "1. Then 1st input layer's shape of W (weight matrix) will be (# of nodes in 1st layer,n)--> You have to have a w per feature, so w1 to wn will be first row of weight matrix. If you have more nodes, such rows will repeat. And will repeat as many times as there are number of nodes in the i/p layer.Note that all features of X are passed to all nodes in 1st layer(fc)\n",
    "2. The  1st hidden layer's shape of W will be (#of nodes in current layer, number of nodes in prev. layer)\n",
    "3. Generic form : Shape of Weight matrix in layer L will be (nL x n L-1) wh. n is number of neurons in current layer.\n"
   ]
  },
  {
   "cell_type": "markdown",
   "metadata": {},
   "source": [
    "The above way of defining your ANN works for both Regression and Classification problems. Only for classification you use\n",
    "sigmoid or softmax activation function depending binary/multi class classification. And for regression you use no activation \n",
    "if its a free range numerical value to be predicted and sigmoid if the value is between 0-1."
   ]
  },
  {
   "cell_type": "code",
   "execution_count": 126,
   "metadata": {},
   "outputs": [
    {
     "name": "stdout",
     "output_type": "stream",
     "text": [
      "Model: \"sequential_2\"\n",
      "_________________________________________________________________\n",
      "Layer (type)                 Output Shape              Param #   \n",
      "=================================================================\n",
      "dense_7 (Dense)              (None, 32)                288       \n",
      "_________________________________________________________________\n",
      "dense_8 (Dense)              (None, 18)                594       \n",
      "_________________________________________________________________\n",
      "dense_9 (Dense)              (None, 12)                228       \n",
      "_________________________________________________________________\n",
      "dense_10 (Dense)             (None, 8)                 104       \n",
      "_________________________________________________________________\n",
      "dense_11 (Dense)             (None, 6)                 54        \n",
      "_________________________________________________________________\n",
      "dense_12 (Dense)             (None, 1)                 7         \n",
      "=================================================================\n",
      "Total params: 1,275\n",
      "Trainable params: 1,275\n",
      "Non-trainable params: 0\n",
      "_________________________________________________________________\n",
      "None\n"
     ]
    }
   ],
   "source": [
    "print(model.summary())\n",
    "\n",
    "#ValueError: Dimensions must be equal, but are 32 and 18 for 'loss_29/add_1' (op: 'Add') with input shapes: [32,18], [18,12].\n"
   ]
  },
  {
   "cell_type": "code",
   "execution_count": 127,
   "metadata": {},
   "outputs": [
    {
     "data": {
      "image/png": "[encoded data removed]",
      "text/plain": [
       "<IPython.core.display.Image object>"
      ]
     },
     "execution_count": 127,
     "metadata": {},
     "output_type": "execute_result"
    }
   ],
   "source": [
    "from keras.utils.vis_utils import plot_model\n",
    "import pydotplus\n",
    "import pydot\n",
    "from keras.utils.vis_utils import model_to_dot\n",
    "\n",
    "plot_model(model, to_file='model_plot.png', show_shapes=True, show_layer_names=True)\n",
    "\n",
    "\n",
    "# Keep getting graphviz error eventhough,i installed Graphviz and added its bin path to PATH(os.path)"
   ]
  },
  {
   "cell_type": "markdown",
   "metadata": {},
   "source": [
    "<font color='blue'>Compile</font> the above defined model"
   ]
  },
  {
   "cell_type": "code",
   "execution_count": 128,
   "metadata": {},
   "outputs": [],
   "source": [
    "opt = k.optimizers.adam(lr=0.001, beta_1=0.9)"
   ]
  },
  {
   "cell_type": "code",
   "execution_count": 129,
   "metadata": {},
   "outputs": [],
   "source": [
    "model.compile(loss = 'mae' , optimizer = opt, metrics = ['accuracy'])"
   ]
  },
  {
   "cell_type": "markdown",
   "metadata": {},
   "source": [
    "<font color='blue'>Fit</font> the compiled model with training data (train)"
   ]
  },
  {
   "cell_type": "code",
   "execution_count": 130,
   "metadata": {
    "collapsed": true
   },
   "outputs": [
    {
     "name": "stdout",
     "output_type": "stream",
     "text": [
      "Epoch 1/35\n",
      "54/54 [==============================] - 0s 2ms/step - loss: 70.0499 - accuracy: 0.0000e+00\n",
      "Epoch 2/35\n",
      "54/54 [==============================] - 0s 55us/step - loss: 69.6337 - accuracy: 0.0000e+00\n",
      "Epoch 3/35\n",
      "54/54 [==============================] - 0s 55us/step - loss: 69.0241 - accuracy: 0.0000e+00\n",
      "Epoch 4/35\n",
      "54/54 [==============================] - 0s 74us/step - loss: 68.3837 - accuracy: 0.0000e+00\n",
      "Epoch 5/35\n",
      "54/54 [==============================] - 0s 74us/step - loss: 67.8716 - accuracy: 0.0000e+00\n",
      "Epoch 6/35\n",
      "54/54 [==============================] - 0s 74us/step - loss: 67.4211 - accuracy: 0.0000e+00\n",
      "Epoch 7/35\n",
      "54/54 [==============================] - 0s 92us/step - loss: 66.9800 - accuracy: 0.0000e+00\n",
      "Epoch 8/35\n",
      "54/54 [==============================] - 0s 111us/step - loss: 66.5620 - accuracy: 0.0000e+00\n",
      "Epoch 9/35\n",
      "54/54 [==============================] - 0s 74us/step - loss: 66.1449 - accuracy: 0.0000e+00\n",
      "Epoch 10/35\n",
      "54/54 [==============================] - 0s 74us/step - loss: 65.7349 - accuracy: 0.0000e+00\n",
      "Epoch 11/35\n",
      "54/54 [==============================] - 0s 56us/step - loss: 65.3077 - accuracy: 0.0000e+00\n",
      "Epoch 12/35\n",
      "54/54 [==============================] - 0s 74us/step - loss: 64.8669 - accuracy: 0.0000e+00\n",
      "Epoch 13/35\n",
      "54/54 [==============================] - 0s 129us/step - loss: 64.3982 - accuracy: 0.0000e+00\n",
      "Epoch 14/35\n",
      "54/54 [==============================] - 0s 74us/step - loss: 63.8998 - accuracy: 0.0000e+00\n",
      "Epoch 15/35\n",
      "54/54 [==============================] - 0s 74us/step - loss: 63.4074 - accuracy: 0.0000e+00\n",
      "Epoch 16/35\n",
      "54/54 [==============================] - 0s 92us/step - loss: 62.8550 - accuracy: 0.0000e+00\n",
      "Epoch 17/35\n",
      "54/54 [==============================] - 0s 55us/step - loss: 62.2593 - accuracy: 0.0000e+00\n",
      "Epoch 18/35\n",
      "54/54 [==============================] - 0s 93us/step - loss: 61.5929 - accuracy: 0.0000e+00\n",
      "Epoch 19/35\n",
      "54/54 [==============================] - 0s 111us/step - loss: 60.8770 - accuracy: 0.0000e+00\n",
      "Epoch 20/35\n",
      "54/54 [==============================] - 0s 55us/step - loss: 60.0626 - accuracy: 0.0000e+00\n",
      "Epoch 21/35\n",
      "54/54 [==============================] - 0s 93us/step - loss: 59.1934 - accuracy: 0.0000e+00\n",
      "Epoch 22/35\n",
      "54/54 [==============================] - 0s 92us/step - loss: 58.1904 - accuracy: 0.0000e+00\n",
      "Epoch 23/35\n",
      "54/54 [==============================] - 0s 92us/step - loss: 57.0634 - accuracy: 0.0000e+00\n",
      "Epoch 24/35\n",
      "54/54 [==============================] - 0s 111us/step - loss: 55.7886 - accuracy: 0.0000e+00\n",
      "Epoch 25/35\n",
      "54/54 [==============================] - 0s 74us/step - loss: 54.3693 - accuracy: 0.0000e+00\n",
      "Epoch 26/35\n",
      "54/54 [==============================] - 0s 73us/step - loss: 52.7311 - accuracy: 0.0000e+00\n",
      "Epoch 27/35\n",
      "54/54 [==============================] - 0s 73us/step - loss: 50.9100 - accuracy: 0.0000e+00\n",
      "Epoch 28/35\n",
      "54/54 [==============================] - 0s 74us/step - loss: 48.8007 - accuracy: 0.0000e+00\n",
      "Epoch 29/35\n",
      "54/54 [==============================] - 0s 111us/step - loss: 46.5062 - accuracy: 0.0000e+00\n",
      "Epoch 30/35\n",
      "54/54 [==============================] - 0s 74us/step - loss: 44.1008 - accuracy: 0.0000e+00\n",
      "Epoch 31/35\n",
      "54/54 [==============================] - 0s 74us/step - loss: 41.3110 - accuracy: 0.0000e+00\n",
      "Epoch 32/35\n",
      "54/54 [==============================] - ETA: 0s - loss: 45.6111 - accuracy: 0.0000e+0 - 0s 93us/step - loss: 38.4253 - accuracy: 0.0000e+00\n",
      "Epoch 33/35\n",
      "54/54 [==============================] - 0s 92us/step - loss: 35.2189 - accuracy: 0.0000e+00\n",
      "Epoch 34/35\n",
      "54/54 [==============================] - 0s 129us/step - loss: 31.8560 - accuracy: 0.0000e+00\n",
      "Epoch 35/35\n",
      "54/54 [==============================] - 0s 74us/step - loss: 28.0237 - accuracy: 0.0000e+00\n"
     ]
    }
   ],
   "source": [
    "history = model.fit( X,Y,  epochs = 35)"
   ]
  },
  {
   "cell_type": "code",
   "execution_count": 165,
   "metadata": {},
   "outputs": [
    {
     "data": {
      "text/plain": [
       "{'loss': [70.04988917598018,\n",
       "  69.6337090951425,\n",
       "  69.02411326655636,\n",
       "  68.38366303620515,\n",
       "  67.87163487187138,\n",
       "  67.42113551387081,\n",
       "  66.97997962103949,\n",
       "  66.56204817030165,\n",
       "  66.14490791603372,\n",
       "  65.73490425392434,\n",
       "  65.30769828513816,\n",
       "  64.86686593514902,\n",
       "  64.39816510235822,\n",
       "  63.89978959825304,\n",
       "  63.40739271375868,\n",
       "  62.854986120153356,\n",
       "  62.25929020069264,\n",
       "  61.59289663809317,\n",
       "  60.87696640579789,\n",
       "  60.06263323183413,\n",
       "  59.19339370727539,\n",
       "  58.190390834101926,\n",
       "  57.06336805555556,\n",
       "  55.788614908854164,\n",
       "  54.36929914686415,\n",
       "  52.73110848885995,\n",
       "  50.91002005117911,\n",
       "  48.800680796305336,\n",
       "  46.5062387254503,\n",
       "  44.100766782407405,\n",
       "  41.310998422128186,\n",
       "  38.425291767826785,\n",
       "  35.218850171124494,\n",
       "  31.85595851474338,\n",
       "  28.023715125189888],\n",
       " 'accuracy': [0.0,\n",
       "  0.0,\n",
       "  0.0,\n",
       "  0.0,\n",
       "  0.0,\n",
       "  0.0,\n",
       "  0.0,\n",
       "  0.0,\n",
       "  0.0,\n",
       "  0.0,\n",
       "  0.0,\n",
       "  0.0,\n",
       "  0.0,\n",
       "  0.0,\n",
       "  0.0,\n",
       "  0.0,\n",
       "  0.0,\n",
       "  0.0,\n",
       "  0.0,\n",
       "  0.0,\n",
       "  0.0,\n",
       "  0.0,\n",
       "  0.0,\n",
       "  0.0,\n",
       "  0.0,\n",
       "  0.0,\n",
       "  0.0,\n",
       "  0.0,\n",
       "  0.0,\n",
       "  0.0,\n",
       "  0.0,\n",
       "  0.0,\n",
       "  0.0,\n",
       "  0.0,\n",
       "  0.0]}"
      ]
     },
     "execution_count": 165,
     "metadata": {},
     "output_type": "execute_result"
    }
   ],
   "source": [
    "history.history"
   ]
  },
  {
   "cell_type": "markdown",
   "metadata": {},
   "source": [
    "<font color='blue'>Evaluate</font> the model"
   ]
  },
  {
   "cell_type": "code",
   "execution_count": 131,
   "metadata": {},
   "outputs": [
    {
     "name": "stdout",
     "output_type": "stream",
     "text": [
      "54/54 [==============================] - 0s 314us/step\n"
     ]
    }
   ],
   "source": [
    "scores = model.evaluate(X,Y)"
   ]
  },
  {
   "cell_type": "code",
   "execution_count": 132,
   "metadata": {
    "collapsed": true
   },
   "outputs": [
    {
     "data": {
      "text/plain": [
       "[0.0,\n",
       " 0.0,\n",
       " 0.0,\n",
       " 0.0,\n",
       " 0.0,\n",
       " 0.0,\n",
       " 0.0,\n",
       " 0.0,\n",
       " 0.0,\n",
       " 0.0,\n",
       " 0.0,\n",
       " 0.0,\n",
       " 0.0,\n",
       " 0.0,\n",
       " 0.0,\n",
       " 0.0,\n",
       " 0.0,\n",
       " 0.0,\n",
       " 0.0,\n",
       " 0.0,\n",
       " 0.0,\n",
       " 0.0,\n",
       " 0.0,\n",
       " 0.0,\n",
       " 0.0,\n",
       " 0.0,\n",
       " 0.0,\n",
       " 0.0,\n",
       " 0.0,\n",
       " 0.0,\n",
       " 0.0,\n",
       " 0.0,\n",
       " 0.0,\n",
       " 0.0,\n",
       " 0.0]"
      ]
     },
     "execution_count": 132,
     "metadata": {},
     "output_type": "execute_result"
    }
   ],
   "source": [
    "history.history['accuracy']\n"
   ]
  },
  {
   "cell_type": "code",
   "execution_count": 133,
   "metadata": {},
   "outputs": [
    {
     "data": {
      "image/png": "[encoded data removed]",
      "text/plain": [
       "<Figure size 432x288 with 1 Axes>"
      ]
     },
     "metadata": {
      "needs_background": "light"
     },
     "output_type": "display_data"
    },
    {
     "data": {
      "image/png": "[encoded data removed]",
      "text/plain": [
       "<Figure size 432x288 with 1 Axes>"
      ]
     },
     "metadata": {
      "needs_background": "light"
     },
     "output_type": "display_data"
    },
    {
     "data": {
      "text/plain": [
       "<Figure size 432x288 with 0 Axes>"
      ]
     },
     "metadata": {},
     "output_type": "display_data"
    }
   ],
   "source": [
    "import matplotlib.pyplot as plt\n",
    "\n",
    "acc         = history.history['accuracy']\n",
    "#val_acc     = history.history['val_acc']\n",
    "loss        = history.history['loss']\n",
    "#val_loss    = history.history['val_loss']\n",
    "\n",
    "epochs      = range(1, len(acc)+ 1 )\n",
    "\n",
    "\n",
    "plt.plot(epochs, acc, 'b', label = 'Training Accuracy' , )\n",
    "plt.xlabel('Epochs')\n",
    "plt.ylabel('Accuracy')\n",
    "plt.title('Training  Accuracy')\n",
    "plt.legend()\n",
    "plt.figure()\n",
    "\n",
    "\n",
    "plt.plot(epochs, loss, 'b', label = 'Training Loss')\n",
    "plt.xlabel('Epochs')\n",
    "plt.ylabel('Loss')\n",
    "plt.title('Training  loss')\n",
    "\n",
    "plt.legend()\n",
    "plt.figure()\n",
    "\n",
    "plt.show()"
   ]
  },
  {
   "cell_type": "code",
   "execution_count": 134,
   "metadata": {},
   "outputs": [
    {
     "data": {
      "text/plain": [
       "35"
      ]
     },
     "execution_count": 134,
     "metadata": {},
     "output_type": "execute_result"
    }
   ],
   "source": [
    "len(loss)"
   ]
  },
  {
   "cell_type": "code",
   "execution_count": 135,
   "metadata": {},
   "outputs": [],
   "source": [
    "x_test =  np.array([[1,1,1,1,1,1,1,10]] )"
   ]
  },
  {
   "cell_type": "code",
   "execution_count": 136,
   "metadata": {},
   "outputs": [],
   "source": [
    "val = model.predict(x_test)"
   ]
  },
  {
   "cell_type": "code",
   "execution_count": 137,
   "metadata": {},
   "outputs": [
    {
     "name": "stdout",
     "output_type": "stream",
     "text": [
      "[[21.372986]]\n"
     ]
    }
   ],
   "source": [
    "val.shape\n",
    "print(val)"
   ]
  },
  {
   "cell_type": "code",
   "execution_count": 138,
   "metadata": {},
   "outputs": [],
   "source": [
    "#KEras functional api (alternative to using keras sequential() api apparently more fleexile in connecting and reusing laeyrs)\n",
    "from keras.models import Model\n",
    "from keras.layers import Input \n",
    "from keras.layers import Dense \n",
    "visible = Input(shape=(2,)) \n",
    "hidden1 = Dense(4)(visible)\n",
    "hidden2 = Dense(3)(hidden1)\n",
    "model1 = Model(inputs=visible, outputs=hidden2)"
   ]
  },
  {
   "cell_type": "code",
   "execution_count": 139,
   "metadata": {},
   "outputs": [
    {
     "name": "stdout",
     "output_type": "stream",
     "text": [
      "Model: \"model_1\"\n",
      "_________________________________________________________________\n",
      "Layer (type)                 Output Shape              Param #   \n",
      "=================================================================\n",
      "input_1 (InputLayer)         (None, 2)                 0         \n",
      "_________________________________________________________________\n",
      "dense_13 (Dense)             (None, 4)                 12        \n",
      "_________________________________________________________________\n",
      "dense_14 (Dense)             (None, 3)                 15        \n",
      "=================================================================\n",
      "Total params: 27\n",
      "Trainable params: 27\n",
      "Non-trainable params: 0\n",
      "_________________________________________________________________\n"
     ]
    }
   ],
   "source": [
    "model1.summary()"
   ]
  },
  {
   "cell_type": "code",
   "execution_count": 141,
   "metadata": {},
   "outputs": [
    {
     "data": {
      "image/png": "[encoded data removed]",
      "text/plain": [
       "<IPython.core.display.Image object>"
      ]
     },
     "execution_count": 141,
     "metadata": {},
     "output_type": "execute_result"
    }
   ],
   "source": [
    "from keras.utils import plot_model\n",
    "plot_model(model1, to_file='multilayer_perceptron_graph.png',show_shapes=True, show_layer_names=True)# error , commenting plot_model in utils--> vis doesnt work even thoug pydot and graphviz is installed"
   ]
  },
  {
   "cell_type": "markdown",
   "metadata": {},
   "source": [
    "Architechting a NN\n",
    "\n",
    "1. Number, size and type of layers \n",
    "1. Loss function, Activation functions, Optimization procedure and number of epochs. \n",
    "\n",
    "1. Number : Generally 5, 10 , 24\n",
    "2. Size   : Generally  ?? QD\n",
    "3. Type   : FF, Cnn, Rnn, LSTM, GRU   \n",
    "4. Loss Fn        : [Binary] Cross Entropy, QD\n",
    "5. Activations Fn : [Leaky]Relu, tanh, Sigmoid     \n",
    "6. Optimizations  : Momentum, RMS Prop, Adam\n",
    "7. Metrics        : 'accuracy'    , ?? QD"
   ]
  },
  {
   "cell_type": "code",
   "execution_count": 145,
   "metadata": {},
   "outputs": [
    {
     "ename": "NameError",
     "evalue": "name 'numpy' is not defined",
     "output_type": "error",
     "traceback": [
      "\u001b[1;31m---------------------------------------------------------------------------\u001b[0m",
      "\u001b[1;31mNameError\u001b[0m                                 Traceback (most recent call last)",
      "\u001b[1;32m<ipython-input-145-e76f6fb40d63>\u001b[0m in \u001b[0;36m<module>\u001b[1;34m\u001b[0m\n\u001b[0;32m      1\u001b[0m \u001b[1;31m#Lets load some data\u001b[0m\u001b[1;33m\u001b[0m\u001b[1;33m\u001b[0m\u001b[1;33m\u001b[0m\u001b[0m\n\u001b[1;32m----> 2\u001b[1;33m \u001b[0mdataset\u001b[0m \u001b[1;33m=\u001b[0m \u001b[0mnumpy\u001b[0m\u001b[1;33m.\u001b[0m\u001b[0mloadtxt\u001b[0m\u001b[1;33m(\u001b[0m\u001b[1;34m\"file name\"\u001b[0m\u001b[1;33m,\u001b[0m \u001b[0mdelimiter\u001b[0m\u001b[1;33m=\u001b[0m\u001b[1;34m\",\"\u001b[0m\u001b[1;33m)\u001b[0m\u001b[1;33m\u001b[0m\u001b[1;33m\u001b[0m\u001b[0m\n\u001b[0m\u001b[0;32m      3\u001b[0m \u001b[1;31m#X = dataset[:,0:#of cols]\u001b[0m\u001b[1;33m\u001b[0m\u001b[1;33m\u001b[0m\u001b[1;33m\u001b[0m\u001b[0m\n\u001b[0;32m      4\u001b[0m \u001b[1;31m#Y = dataset[:,target variableth col#] dont execute code\u001b[0m\u001b[1;33m\u001b[0m\u001b[1;33m\u001b[0m\u001b[1;33m\u001b[0m\u001b[0m\n",
      "\u001b[1;31mNameError\u001b[0m: name 'numpy' is not defined"
     ]
    }
   ],
   "source": [
    "#Lets load some data\n",
    "dataset = numpy.loadtxt(\"file name\", delimiter=\",\")\n",
    "#X = dataset[:,0:#of cols] \n",
    "#Y = dataset[:,target variableth col#] dont execute code"
   ]
  },
  {
   "cell_type": "markdown",
   "metadata": {},
   "source": [
    "### Evaluation Methods \n",
    "\n",
    "1. Automatic Verification dataset ( validation_split=0.33 during fit)\n",
    "1. Manual Verification dataset    ( Train-test split)\n",
    "1. K-Fold Cross Validation"
   ]
  },
  {
   "cell_type": "code",
   "execution_count": null,
   "metadata": {},
   "outputs": [],
   "source": [
    "# Keras variations for above methods\n",
    "#Option 1 : Training Data is just X,Y , you let model.fit() split it into certain %\n",
    "#Option 2 : Training Data X,Y is split into 67% for train and 33% for test using tts\n",
    "X_train, X_test, y_train, y_test = train_test_split(X, Y, test_size=0.33, random_state=seed)\n",
    "# Define model\n",
    "model = Sequential()\n",
    "model.add(Dense(12, input_dim=8, activation='relu'))\n",
    "model.add(Dense(8, activation='relu'))\n",
    "model.add(Dense(1, activation='sigmoid'))\n",
    "#Compile the model\n",
    "model.compile(loss='binary_crossentropy', optimizer='adam', metrics=['accuracy'])\n",
    "# Fit the model\n",
    "model.fit(X, y,             epochs=5, batch_size=10, validation_split=0.33) # For Option1 training data OR\n",
    "#model.fit(X_train, y_train, epochs=150, batch_size=10, validation_data=(X_test,y_test),) # For Option 2, we pass the val.data explicitly and manually\n",
    "# evaluate the model\n",
    "scores = model.evaluate(X, y)"
   ]
  },
  {
   "cell_type": "code",
   "execution_count": null,
   "metadata": {
    "collapsed": true
   },
   "outputs": [],
   "source": [
    "from sklearn.model_selection import train_test_split\n",
    "from sklearn.model_selection import StratifiedKFold \n",
    "\n",
    "\n",
    "def model_dcfe:\n",
    "#Define Model    \n",
    "    model = Sequential()\n",
    "    model.add(Dense(12, input_dim = 8, activation = 'relu'))\n",
    "    model.add(Dense(8 ,                activation = 'relu'))\n",
    "    model.add(Dense(1 ,                activation = 'relu'))\n",
    "#Comile model  lom \n",
    "    model.compile(loss = 'binary_crossentropy' , optimizer = 'adam' , metrics = ['accuracy'])\n",
    "#Fit Model    \n",
    "    model.fit( X[train_index], Y[train_index], epochs=150, batch_size=10, verbose=0)\n",
    "#Eval model\n",
    "    scores = model.evaluate(X,Y)\n",
    "    print(\"%s: %.2f%%\" % (model.metrics_names[1], scores[1]*100)) cvscores.append(scores[1] * 100)\n",
    "    cvscores.append(scores[1] * 100)\n",
    "    \n",
    "#Variations During fit Option1: \n",
    "# model.fit(X, Y, validation_split=0.33, epochs=150, batch_size=10) \n",
    "#Variations During fit Option2(tts): \n",
    "# X_train, X_test, y_train, y_test = train_test_split(X, Y, test_size=0.33, random_state=seed)<br>\n",
    "# model.fit(X_train, y_train, validation_data=(X_test,y_test), epochs=150, batch_size=10)\n",
    "\n",
    "# define 10-fold cross validation test harness\n",
    "kfold = StratifiedKFold(n_splits=10, shuffle=True, random_state=seed) \n",
    "cvscores = []\n",
    "\n",
    "for train_index,test_index in kfold.split(X,Y): # number of train Vs test indices(instances from training sample) can be different for each loop, for one loopit may be 80-20,for another 70-30, for another 90-10\n",
    "    #CDEF --> DCFE    \n",
    "    #model_dcfe() #--> 10 times model will get created and compiled, as k = 10  model gets recreated in loop\n",
    "    \n",
    "print(\"%.2f%% (+/- %.2f%%)\" % (numpy.mean(cvscores), numpy.std(cvscores)))"
   ]
  },
  {
   "cell_type": "markdown",
   "metadata": {},
   "source": [
    "## Yet another variation with Scikit Learn wrapper over Keras \n",
    "Using KerasClassifier/Regressor and cross_val_score-Dont explicitly call model.fit()"
   ]
  },
  {
   "cell_type": "code",
   "execution_count": null,
   "metadata": {},
   "outputs": [],
   "source": [
    "# load pima indians dataset\n",
    "dataset = numpy.loadtxt(\"pima-indians-diabetes.csv\", delimiter=\",\")\n",
    "# split into input (X) and output (Y) variables\n",
    "X = dataset[:,0:8]\n",
    "Y = dataset[:,8]\n",
    "\n",
    "# Function to define model, required for KerasClassifier\n",
    "def define_dc_model():\n",
    "# create model\n",
    "    model = Sequential()\n",
    "    model.add(Dense(12, input_dim=8, activation='relu'))\n",
    "    model.add(Dense(8, activation='relu'))\n",
    "    model.add(Dense(1, activation='sigmoid'))\n",
    "# Compile model\n",
    "    model.compile(loss='binary_crossentropy', optimizer='adam', metrics=['accuracy'])\n",
    "    return model\n",
    " \n",
    "\n",
    "# create model\n",
    "model = KerasClassifier(build_fn=define_dc_model, epochs=150, batch_size=10, verbose=0)\n",
    "# evaluate using 10-fold cross validation\n",
    "kfold = StratifiedKFold(n_splits=10, shuffle=True, random_state=seed)\n",
    "results = cross_val_score(model, X, Y, cv=kfold)#--> finally calls KerasClassifier which inturn calls fit() and training happens\n",
    "print(results.mean())"
   ]
  },
  {
   "cell_type": "markdown",
   "metadata": {},
   "source": [
    "### How to search for the best model paramaeters to use : <font color='blue'> Grid Search <font />\n",
    "    Note- Grid search is not recomened. Random search in a define search space range is recomended."
   ]
  },
  {
   "cell_type": "markdown",
   "metadata": {},
   "source": [
    "Just load some data 50 rows"
   ]
  },
  {
   "cell_type": "code",
   "execution_count": 152,
   "metadata": {},
   "outputs": [],
   "source": [
    "import numpy\n",
    "# fix random seed for reproducibility\n",
    "seed = 7\n",
    "numpy.random.seed(seed)\n",
    "# load pima indians dataset\n",
    "dataset = numpy.loadtxt(\"pima-indians-diabetes.csv\", delimiter=\",\")\n",
    "# split into input (X) and output (Y) variables\n",
    "X = dataset[0:50,0:8]\n",
    "Y = dataset[0:50,8]"
   ]
  },
  {
   "cell_type": "code",
   "execution_count": 161,
   "metadata": {},
   "outputs": [
    {
     "name": "stderr",
     "output_type": "stream",
     "text": [
      "C:\\Users\\cvsk7\\Anaconda3\\lib\\site-packages\\sklearn\\model_selection\\_search.py:814: DeprecationWarning: The default of the `iid` parameter will change from True to False in version 0.22 and will be removed in 0.24. This will change numeric results when test-set sizes are unequal.\n",
      "  DeprecationWarning)\n"
     ]
    }
   ],
   "source": [
    "from keras.models import Sequential\n",
    "from keras.layers import Dense\n",
    "from keras.wrappers.scikit_learn import KerasClassifier\n",
    "from sklearn.model_selection import StratifiedKFold\n",
    "from sklearn.model_selection import cross_val_score\n",
    "from sklearn.model_selection import GridSearchCV\n",
    "\n",
    "# Function to create model, required for SciKit Learn's KerasClassifier\n",
    "def define_dc_model(optimizer, init):# like optimizer ='rmsprop', init ='glorot_uniform'dictionary from the defined below\n",
    "# create model\n",
    "    model = Sequential()\n",
    "    model.add(Dense(12, input_dim=8, kernel_initializer=init, activation='relu'))\n",
    "    model.add(Dense(8, kernel_initializer=init, activation='relu'))\n",
    "    model.add(Dense(1, kernel_initializer=init, activation='sigmoid'))\n",
    "# Compile model\n",
    "    model.compile(loss='binary_crossentropy', optimizer=optimizer, metrics=['accuracy'])\n",
    "    return model\n",
    "\n",
    "# Actually define/create model\n",
    "model = KerasClassifier(build_fn=define_dc_model, verbose=0)\n",
    "\n",
    "# grid search epochs, batch size and optimizer and initialization methods\n",
    "optimizers = ['rmsprop', 'adam']\n",
    "inits = ['glorot_uniform', 'normal', 'uniform']\n",
    "epochs = [50, 100, 150]\n",
    "batches = [5, 10, 20]\n",
    "param_grid = dict(optimizer=optimizers, epochs=epochs, batch_size=batches, init=inits)#LHS(Keys of dict) Keras's kw importing param names used in model definition, model.fit(), model.compile(), RHS lists of values we have defined for the search space\n",
    "grid = GridSearchCV(estimator=model, param_grid=param_grid)\n",
    "grid_result = grid.fit(X, Y)#--> Actual traiing happens here, runs the model with different combinations f model parameters from the dictionary"
   ]
  },
  {
   "cell_type": "code",
   "execution_count": 159,
   "metadata": {
    "collapsed": true
   },
   "outputs": [
    {
     "name": "stdout",
     "output_type": "stream",
     "text": [
      "Best: 0.620000 using {'batch_size': 10, 'epochs': 50, 'init': 'glorot_uniform', 'optimizer': 'adam'}\n",
      "0.480000 (0.037924) with: {'batch_size': 5, 'epochs': 50, 'init': 'glorot_uniform', 'optimizer': 'rmsprop'}\n",
      "0.440000 (0.113772) with: {'batch_size': 5, 'epochs': 50, 'init': 'glorot_uniform', 'optimizer': 'adam'}\n",
      "0.420000 (0.079038) with: {'batch_size': 5, 'epochs': 50, 'init': 'normal', 'optimizer': 'rmsprop'}\n",
      "0.480000 (0.078384) with: {'batch_size': 5, 'epochs': 50, 'init': 'normal', 'optimizer': 'adam'}\n",
      "0.400000 (0.051450) with: {'batch_size': 5, 'epochs': 50, 'init': 'uniform', 'optimizer': 'rmsprop'}\n",
      "0.440000 (0.065888) with: {'batch_size': 5, 'epochs': 50, 'init': 'uniform', 'optimizer': 'adam'}\n",
      "0.500000 (0.137467) with: {'batch_size': 5, 'epochs': 100, 'init': 'glorot_uniform', 'optimizer': 'rmsprop'}\n",
      "0.420000 (0.039258) with: {'batch_size': 5, 'epochs': 100, 'init': 'glorot_uniform', 'optimizer': 'adam'}\n",
      "0.540000 (0.085423) with: {'batch_size': 5, 'epochs': 100, 'init': 'normal', 'optimizer': 'rmsprop'}\n",
      "0.440000 (0.072781) with: {'batch_size': 5, 'epochs': 100, 'init': 'normal', 'optimizer': 'adam'}\n",
      "0.380000 (0.121316) with: {'batch_size': 5, 'epochs': 100, 'init': 'uniform', 'optimizer': 'rmsprop'}\n",
      "0.460000 (0.063152) with: {'batch_size': 5, 'epochs': 100, 'init': 'uniform', 'optimizer': 'adam'}\n",
      "0.520000 (0.050410) with: {'batch_size': 5, 'epochs': 150, 'init': 'glorot_uniform', 'optimizer': 'rmsprop'}\n",
      "0.500000 (0.089113) with: {'batch_size': 5, 'epochs': 150, 'init': 'glorot_uniform', 'optimizer': 'adam'}\n",
      "0.480000 (0.037924) with: {'batch_size': 5, 'epochs': 150, 'init': 'normal', 'optimizer': 'rmsprop'}\n",
      "0.400000 (0.094324) with: {'batch_size': 5, 'epochs': 150, 'init': 'normal', 'optimizer': 'adam'}\n",
      "0.480000 (0.117436) with: {'batch_size': 5, 'epochs': 150, 'init': 'uniform', 'optimizer': 'rmsprop'}\n",
      "0.420000 (0.097754) with: {'batch_size': 5, 'epochs': 150, 'init': 'uniform', 'optimizer': 'adam'}\n",
      "0.480000 (0.078384) with: {'batch_size': 10, 'epochs': 50, 'init': 'glorot_uniform', 'optimizer': 'rmsprop'}\n",
      "0.620000 (0.104727) with: {'batch_size': 10, 'epochs': 50, 'init': 'glorot_uniform', 'optimizer': 'adam'}\n",
      "0.460000 (0.063152) with: {'batch_size': 10, 'epochs': 50, 'init': 'normal', 'optimizer': 'rmsprop'}\n",
      "0.520000 (0.092180) with: {'batch_size': 10, 'epochs': 50, 'init': 'normal', 'optimizer': 'adam'}\n",
      "0.500000 (0.112459) with: {'batch_size': 10, 'epochs': 50, 'init': 'uniform', 'optimizer': 'rmsprop'}\n",
      "0.520000 (0.061573) with: {'batch_size': 10, 'epochs': 50, 'init': 'uniform', 'optimizer': 'adam'}\n",
      "0.520000 (0.013720) with: {'batch_size': 10, 'epochs': 100, 'init': 'glorot_uniform', 'optimizer': 'rmsprop'}\n",
      "0.580000 (0.097754) with: {'batch_size': 10, 'epochs': 100, 'init': 'glorot_uniform', 'optimizer': 'adam'}\n",
      "0.500000 (0.089113) with: {'batch_size': 10, 'epochs': 100, 'init': 'normal', 'optimizer': 'rmsprop'}\n",
      "0.500000 (0.089113) with: {'batch_size': 10, 'epochs': 100, 'init': 'normal', 'optimizer': 'adam'}\n",
      "0.500000 (0.112459) with: {'batch_size': 10, 'epochs': 100, 'init': 'uniform', 'optimizer': 'rmsprop'}\n",
      "0.520000 (0.061573) with: {'batch_size': 10, 'epochs': 100, 'init': 'uniform', 'optimizer': 'adam'}\n",
      "0.520000 (0.110666) with: {'batch_size': 10, 'epochs': 150, 'init': 'glorot_uniform', 'optimizer': 'rmsprop'}\n",
      "0.480000 (0.037924) with: {'batch_size': 10, 'epochs': 150, 'init': 'glorot_uniform', 'optimizer': 'adam'}\n",
      "0.540000 (0.115758) with: {'batch_size': 10, 'epochs': 150, 'init': 'normal', 'optimizer': 'rmsprop'}\n",
      "0.500000 (0.137467) with: {'batch_size': 10, 'epochs': 150, 'init': 'normal', 'optimizer': 'adam'}\n",
      "0.480000 (0.086840) with: {'batch_size': 10, 'epochs': 150, 'init': 'uniform', 'optimizer': 'rmsprop'}\n",
      "0.440000 (0.065888) with: {'batch_size': 10, 'epochs': 150, 'init': 'uniform', 'optimizer': 'adam'}\n",
      "0.580000 (0.049971) with: {'batch_size': 20, 'epochs': 50, 'init': 'glorot_uniform', 'optimizer': 'rmsprop'}\n",
      "0.520000 (0.037924) with: {'batch_size': 20, 'epochs': 50, 'init': 'glorot_uniform', 'optimizer': 'adam'}\n",
      "0.540000 (0.077763) with: {'batch_size': 20, 'epochs': 50, 'init': 'normal', 'optimizer': 'rmsprop'}\n",
      "0.500000 (0.064739) with: {'batch_size': 20, 'epochs': 50, 'init': 'normal', 'optimizer': 'adam'}\n",
      "0.520000 (0.092180) with: {'batch_size': 20, 'epochs': 50, 'init': 'uniform', 'optimizer': 'rmsprop'}\n",
      "0.500000 (0.064739) with: {'batch_size': 20, 'epochs': 50, 'init': 'uniform', 'optimizer': 'adam'}\n",
      "0.440000 (0.106771) with: {'batch_size': 20, 'epochs': 100, 'init': 'glorot_uniform', 'optimizer': 'rmsprop'}\n",
      "0.560000 (0.265690) with: {'batch_size': 20, 'epochs': 100, 'init': 'glorot_uniform', 'optimizer': 'adam'}\n",
      "0.500000 (0.112459) with: {'batch_size': 20, 'epochs': 100, 'init': 'normal', 'optimizer': 'rmsprop'}\n",
      "0.460000 (0.063152) with: {'batch_size': 20, 'epochs': 100, 'init': 'normal', 'optimizer': 'adam'}\n",
      "0.520000 (0.110666) with: {'batch_size': 20, 'epochs': 100, 'init': 'uniform', 'optimizer': 'rmsprop'}\n",
      "0.520000 (0.110666) with: {'batch_size': 20, 'epochs': 100, 'init': 'uniform', 'optimizer': 'adam'}\n",
      "0.580000 (0.097754) with: {'batch_size': 20, 'epochs': 150, 'init': 'glorot_uniform', 'optimizer': 'rmsprop'}\n",
      "0.540000 (0.085423) with: {'batch_size': 20, 'epochs': 150, 'init': 'glorot_uniform', 'optimizer': 'adam'}\n",
      "0.440000 (0.065888) with: {'batch_size': 20, 'epochs': 150, 'init': 'normal', 'optimizer': 'rmsprop'}\n",
      "0.480000 (0.037924) with: {'batch_size': 20, 'epochs': 150, 'init': 'normal', 'optimizer': 'adam'}\n",
      "0.520000 (0.099469) with: {'batch_size': 20, 'epochs': 150, 'init': 'uniform', 'optimizer': 'rmsprop'}\n",
      "0.440000 (0.065888) with: {'batch_size': 20, 'epochs': 150, 'init': 'uniform', 'optimizer': 'adam'}\n"
     ]
    }
   ],
   "source": [
    "# summarize results\n",
    "print(\"Best: %f using %s\" % (grid_result.best_score_, grid_result.best_params_))\n",
    "means = grid_result.cv_results_['mean_test_score']\n",
    "stds = grid_result.cv_results_['std_test_score']\n",
    "params = grid_result.cv_results_['params']\n",
    "for mean, stdev, param in zip(means, stds, params):\n",
    "    print(\"%f (%f) with: %r\" % (mean, stdev, param))"
   ]
  },
  {
   "cell_type": "markdown",
   "metadata": {},
   "source": [
    "### How to search for the best model paramaeters to use : <font color='blue'> Random Sampling Search <font />\n"
   ]
  },
  {
   "cell_type": "markdown",
   "metadata": {},
   "source": [
    "### <font color='blue'> Using Keras tuner <font />\n",
    "\n",
    "https://www.curiousily.com/posts/hackers-guide-to-hyperparameter-tuning/ \n",
    "    \n",
    "code in browser  : https://colab.research.google.com/drive/1NnUdPslZubFyjek1dbzpIzi54jv0Cw0x#scrollTo=WjpiZA317zYc\n",
    "\n",
    "https://github.com/keras-team/keras-tuner"
   ]
  },
  {
   "cell_type": "markdown",
   "metadata": {},
   "source": [
    "### <font color='blue'> Using Hyperas and Hyperopt <font />\n",
    "https://towardsdatascience.com/a-guide-to-an-efficient-way-to-build-neural-network-architectures-part-i-hyper-parameter-8129009f131b"
   ]
  },
  {
   "cell_type": "markdown",
   "metadata": {},
   "source": [
    "# Deep Learning for Text and Sequences ( Francios Chollet )  "
   ]
  },
  {
   "cell_type": "markdown",
   "metadata": {},
   "source": [
    "#CLeaning with NLTK\n",
    "1. Load the raw text                                       --->file = open(filename, 'rt') text = file.read() file.close()\n",
    "1. Split into tokens                                       --->tokens = word_tokenize(text)\n",
    "1. Convert to lowercase.                                   --->tokens = [w.lower() for w in tokens]\n",
    "1. Remove punctuation from each token.                     --->stripped = [re_punc.sub('', w) for w in tokens] \n",
    "1. Filter out remaining tokens that are not alphabetic.    --->words = [word for word in stripped if word.isalpha()]\n",
    "1. Filter out tokens that are stop words.                  --->stop_words = set(stopwords.words('english')) , words = [w for w in words if not w in stop_words\n",
    "                                             "
   ]
  },
  {
   "cell_type": "markdown",
   "metadata": {},
   "source": [
    "1st Step : Vectorize text = Text to Numeric tensors\n",
    "1. Segment words and transform words to vectors\n",
    "1. Extract n-grams for words and transform each n-gram into vectors (n-grams = overlapping groups/windows of sequenctial words)\n",
    "1. Instead of words try 1,2 with characters --Andrew Ng says not so gr8\n",
    "1. Words/Charachters/n-grams are called tokens.\n",
    "1. So text Vecorization = Some Toeknization (word/char/ngram) and then mapping tokens to vectors\n",
    "1. <b>So raw text--> Tokens --> Vectors --> Sequence Tensors --> NN</b>\n",
    "1. 2 ways of makig tokens to vectors : \n",
    "    - One hot Encoding (or a variant is one-hash vectors(qd how to) done with a hashing function, less memory no need for indexing, but susceptible to has collisions . hashcollisions decrease if dimensioality of hashing space is much > total#of unique tokens)\n",
    "    - Word2Vec\n",
    "    "
   ]
  },
  {
   "cell_type": "markdown",
   "metadata": {},
   "source": [
    "One-Hot-Encoding"
   ]
  },
  {
   "cell_type": "code",
   "execution_count": 557,
   "metadata": {
    "collapsed": true
   },
   "outputs": [],
   "source": [
    "#One-Hot ( fit_on* , *to_sequences(maps/replaces words to indices in sentences), *to_matrix(1-hots each word))\n",
    "from keras.preprocessing.text import Tokenizer\n",
    "sentences = ['A sham hope for an utopian equality gaurantees a distopian future',\n",
    "             'Hazy and indifferent life of peace paves the path for war', \n",
    "             'Sacrifices due are only a matter of time'\n",
    "             'All war is deception']\n",
    "tokenizer           = Tokenizer(num_words = 90)                            #takes 90 most common words , also your 1hot dimension is 90, rank/col vector of 90 rows\n",
    "word_index_build    = tokenizer.fit_on_texts(sentences)                    #just fits internally cant see anything on printing. But it internally buils word to index mapping dictionary. Toeknier.word_index is built during fit. Else Toeknier.word_index is unknown.So builds and initalizes the Tokenizer model\n",
    "actual_word_indices = tokenizer.texts_to_sequences(sentences)              #each word is represented by its intiger index\n",
    "one_hotted          = tokenizer.texts_to_matrix(sentences,mode = 'binary') #get 1-hot represenation"
   ]
  },
  {
   "cell_type": "code",
   "execution_count": 562,
   "metadata": {},
   "outputs": [
    {
     "name": "stdout",
     "output_type": "stream",
     "text": [
      "<class 'list'> \n",
      "\n",
      "\u001b[1m Actual word to idex mapping dictionary-->(tokenizer.word_index) \u001b[0m \n",
      "\n",
      " {'a': 1, 'for': 2, 'of': 3, 'war': 4, 'sham': 5, 'hope': 6, 'an': 7, 'utopian': 8, 'equality': 9, 'gaurantees': 10, 'distopian': 11, 'future': 12, 'hazy': 13, 'and': 14, 'indifferent': 15, 'life': 16, 'peace': 17, 'paves': 18, 'the': 19, 'path': 20, 'sacrifices': 21, 'due': 22, 'are': 23, 'only': 24, 'matter': 25, 'timeall': 26, 'is': 27, 'deception': 28}\n",
      " \n",
      "\n",
      "\u001b[1m Frequency of occurence of each word-->(tokenizer.word_counts)    \u001b[0m \n",
      "\n",
      " OrderedDict([('a', 3), ('sham', 1), ('hope', 1), ('for', 2), ('an', 1), ('utopian', 1), ('equality', 1), ('gaurantees', 1), ('distopian', 1), ('future', 1), ('hazy', 1), ('and', 1), ('indifferent', 1), ('life', 1), ('of', 2), ('peace', 1), ('paves', 1), ('the', 1), ('path', 1), ('war', 2), ('sacrifices', 1), ('due', 1), ('are', 1), ('only', 1), ('matter', 1), ('timeall', 1), ('is', 1), ('deception', 1)])\n",
      " \n",
      "\n",
      "\u001b[1m No of words in 3 sentences: \u001b[0m                      33\n",
      "\u001b[1m No of of indices          : \u001b[0m                      33\n",
      "\u001b[1m Shape of each one hot vector per word \u001b[0m           (90,)\n",
      "\u001b[1m Actual indices of each word\u001b[0m \n",
      " [[1, 5, 6, 2, 7, 8, 9, 10, 1, 11, 12], [13, 14, 15, 16, 3, 17, 18, 19, 20, 2, 4], [21, 22, 23, 24, 1, 25, 3, 26, 4, 27, 28]]\n",
      "\u001b[1m No of unique words \u001b[0m :                             28\n",
      "\u001b[1m No of unique words \u001b[0m :                             28\n"
     ]
    }
   ],
   "source": [
    "print(type(actual_word_indices),'\\n')\n",
    "\n",
    "print('\\033[1m Actual word to idex mapping dictionary-->(tokenizer.word_index) \\033[0m \\n\\n'     ,    tokenizer.word_index)\n",
    "print(' \\n')\n",
    "print('\\033[1m Frequency of occurence of each word-->(tokenizer.word_counts)    \\033[0m \\n\\n'    ,    tokenizer.word_counts)\n",
    "print(' \\n')\n",
    "total_nu_of_words   = len(sentences[0].split()) + len(sentences[1].split()) + len(sentences[2].split())\n",
    "total_nu_of_indices = len(actual_word_indices[0]) + len(actual_word_indices[1]) + len(actual_word_indices[2]) \n",
    "assert total_nu_of_words == total_nu_of_indices\n",
    "print('\\033[1m No of words in 3 sentences: \\033[0m                      %.f' %total_nu_of_words)\n",
    "print('\\033[1m No of of indices          : \\033[0m                      %.f' %total_nu_of_indices)\n",
    "print('\\033[1m Shape of each one hot vector per word \\033[0m          ',     one_hotted[0].shape)\n",
    "print('\\033[1m Actual indices of each word\\033[0m \\n'                  ,     actual_word_indices )\n",
    "print('\\033[1m No of unique words \\033[0m :                             %.f' %len(tokenizer.word_counts))\n",
    "print('\\033[1m No of unique words \\033[0m :                             %.f' %len(tokenizer.word_index))\n",
    "\n"
   ]
  },
  {
   "cell_type": "code",
   "execution_count": 563,
   "metadata": {},
   "outputs": [
    {
     "name": "stdout",
     "output_type": "stream",
     "text": [
      "11\n",
      "[0. 1. 1. 0. 0. 1. 1. 1. 1. 1. 1. 1. 1. 0. 0. 0. 0. 0. 0. 0. 0. 0. 0. 0.\n",
      " 0. 0. 0. 0. 0. 0. 0. 0. 0. 0. 0. 0. 0. 0. 0. 0. 0. 0. 0. 0. 0. 0. 0. 0.\n",
      " 0. 0. 0. 0. 0. 0. 0. 0. 0. 0. 0. 0. 0. 0. 0. 0. 0. 0. 0. 0. 0. 0. 0. 0.\n",
      " 0. 0. 0. 0. 0. 0. 0. 0. 0. 0. 0. 0. 0. 0. 0. 0. 0. 0.]\n",
      "(90,)\n",
      "(90,)\n",
      "(90,)\n"
     ]
    }
   ],
   "source": [
    "print(len(actual_word_indices[0]))\n",
    "print(one_hotted[0] )\n",
    "print(one_hotted[0].shape)\n",
    "print(one_hotted[1].shape)\n",
    "print(one_hotted[2].shape)"
   ]
  },
  {
   "cell_type": "code",
   "execution_count": 565,
   "metadata": {},
   "outputs": [
    {
     "data": {
      "text/plain": [
       "([[1, 5, 6, 2, 7, 8, 9, 10, 1, 11, 12],\n",
       "  [13, 14, 15, 16, 3, 17, 18, 19, 20, 2, 4],\n",
       "  [21, 22, 23, 24, 1, 25, 3, 26, 4, 27, 28]],\n",
       " {'a': 1,\n",
       "  'an': 7,\n",
       "  'and': 14,\n",
       "  'are': 23,\n",
       "  'deception': 28,\n",
       "  'distopian': 11,\n",
       "  'due': 22,\n",
       "  'equality': 9,\n",
       "  'for': 2,\n",
       "  'future': 12,\n",
       "  'gaurantees': 10,\n",
       "  'hazy': 13,\n",
       "  'hope': 6,\n",
       "  'indifferent': 15,\n",
       "  'is': 27,\n",
       "  'life': 16,\n",
       "  'matter': 25,\n",
       "  'of': 3,\n",
       "  'only': 24,\n",
       "  'path': 20,\n",
       "  'paves': 18,\n",
       "  'peace': 17,\n",
       "  'sacrifices': 21,\n",
       "  'sham': 5,\n",
       "  'the': 19,\n",
       "  'timeall': 26,\n",
       "  'utopian': 8,\n",
       "  'war': 4})"
      ]
     },
     "execution_count": 565,
     "metadata": {},
     "output_type": "execute_result"
    }
   ],
   "source": [
    "actual_word_indices , tokenizer.word_index"
   ]
  },
  {
   "cell_type": "markdown",
   "metadata": {},
   "source": [
    "### USING PRETRAINED WORD EMBEDDINGS  : Example using GloVe on IMDB dataset"
   ]
  },
  {
   "cell_type": "markdown",
   "metadata": {},
   "source": [
    "#### Load the data "
   ]
  },
  {
   "cell_type": "code",
   "execution_count": 582,
   "metadata": {},
   "outputs": [
    {
     "name": "stdout",
     "output_type": "stream",
     "text": [
      "D:\\My ML Notes\\Books\\Jason Brown Lee\\MY CODE\\.ipynb_checkpoints\\BclImdb\\dclImdb\\train\\neg\n",
      "D:\\My ML Notes\\Books\\Jason Brown Lee\\MY CODE\\.ipynb_checkpoints\\BclImdb\\dclImdb\\train\\pos\n"
     ]
    }
   ],
   "source": [
    "import os\n",
    "\n",
    "imdb_folder = \"D:\\My ML Notes\\Books\\Jason Brown Lee\\MY CODE\\.ipynb_checkpoints\\BclImdb\\dclImdb\"\n",
    "train_folder = os.path.join(imdb_folder,'train')\n",
    "\n",
    "labels = []\n",
    "reviews  = []\n",
    "\n",
    "for label_type in ['neg','pos']:\n",
    "    foldername_withactual_reviews = os.path.join(train_folder,label_type)\n",
    "    print(foldername_withactual_reviews)\n",
    "    #print(os.listdir(folder_withactual_reviews_name))\n",
    "    fnam = ' '# each individual filename\n",
    "    for fnam in os.listdir(foldername_withactual_reviews):\n",
    "        if fnam[-4:] == '.txt':\n",
    "            abs_filename = open(os.path.join(foldername_withactual_reviews,fnam),encoding=\"utf8\")\n",
    "            reviews.append(abs_filename.read())\n",
    "            abs_filename.close()\n",
    "            if label_type == 'neg':\n",
    "                labels.append(0)\n",
    "            else:\n",
    "                labels.append(1)"
   ]
  },
  {
   "cell_type": "code",
   "execution_count": 583,
   "metadata": {},
   "outputs": [
    {
     "data": {
      "text/plain": [
       "(12500, 12500)"
      ]
     },
     "execution_count": 583,
     "metadata": {},
     "output_type": "execute_result"
    }
   ],
   "source": [
    "labels.count(1),labels.count(0)"
   ]
  },
  {
   "cell_type": "markdown",
   "metadata": {},
   "source": [
    "#### Tokenize the text"
   ]
  },
  {
   "cell_type": "code",
   "execution_count": 584,
   "metadata": {},
   "outputs": [],
   "source": [
    "from keras.preprocessing.text import Tokenizer\n",
    "from keras.preprocessing.sequence import pad_sequences\n",
    "import numpy as np\n",
    "\n",
    "nu_training_docs            =  200 # number of docs to be considered for training\n",
    "nu_validation_docs          =  10000\n",
    "\n",
    "\n",
    "top_maxwords_corpus      =  10000 # consider max vocab of 10K words in whole corpus\n",
    "max_words_per_doc        =  100   # consider only 100 words per doc/review\n",
    "\n",
    "tokenizer = Tokenizer(top_maxwords_corpus)                    # considers only top 10K words in dataset\n",
    "tokenizer.fit_on_texts(reviews)                               # fit (probably just creates indices etc, basically initializes and develops Tokenizer object for this text corpus)\n",
    "indices_in_words = tokenizer.texts_to_sequences(reviews)      # maps(just replaces) words with w-indices in each sentence (if run w/o fit gives error word_indices not found)\n",
    "\n",
    "word_index_dict = tokenizer.word_index                        # dictionary with word and its index #\n"
   ]
  },
  {
   "cell_type": "code",
   "execution_count": 585,
   "metadata": {},
   "outputs": [
    {
     "name": "stdout",
     "output_type": "stream",
     "text": [
      "('the', 1)\n",
      "('and', 2)\n",
      "*****************\n",
      "the\n",
      "and\n"
     ]
    }
   ],
   "source": [
    "count = 0\n",
    "for i in word_index_dict.items():\n",
    "    if count > 1:\n",
    "        break\n",
    "    print(i)\n",
    "    count+= 1\n",
    "\n",
    "print('*****************')\n",
    "\n",
    "count = 0\n",
    "for i in word_index_dict.keys():\n",
    "    if count > 1:\n",
    "        break\n",
    "    print(i)\n",
    "    count+= 1 "
   ]
  },
  {
   "cell_type": "code",
   "execution_count": 586,
   "metadata": {},
   "outputs": [
    {
     "name": "stdout",
     "output_type": "stream",
     "text": [
      "Unique # of words/vocab size 88582 88582\n"
     ]
    }
   ],
   "source": [
    "print('Unique # of words/vocab size', len(word_index_dict), len(tokenizer.word_counts))"
   ]
  },
  {
   "cell_type": "code",
   "execution_count": 591,
   "metadata": {},
   "outputs": [
    {
     "name": "stdout",
     "output_type": "stream",
     "text": [
      "25000 /n\n",
      "25000 /n\n",
      "88582 /n\n",
      "88582 /n\n",
      "<class 'dict'> /n\n",
      "<class 'collections.OrderedDict'> /n\n"
     ]
    }
   ],
   "source": [
    "print(len(reviews),'/n'),\n",
    "print(len(indices_in_words),'/n'),# tokenizer.texts_to_sequences(reviews)\n",
    "print(len(word_index_dict),'/n'),#tokenizer.word_index \n",
    "print(len(tokenizer.word_counts),'/n'),\n",
    "print(type(word_index_dict),'/n'),\n",
    "print(type(tokenizer.word_counts),'/n')"
   ]
  },
  {
   "cell_type": "markdown",
   "metadata": {},
   "source": [
    "#### Important point so far"
   ]
  },
  {
   "cell_type": "markdown",
   "metadata": {},
   "source": [
    "- Tokenizer() takes 1 input parameter : Top max words in complete corpus, we can define an arbitrary high number\n",
    "- tokiner.fit_on_texts(training_docs)       *-----> Just fits probably calculates word indices internally\n",
    "- tokiner.texts_to_sequences(training_docs) *-----> replaces each word with its index in the senences\n",
    "- tokiner.word_index                        *-----> Gives a dictionry with words and their corresponding indices assigned\n",
    "- tokenizer.word_counts                     *-----> Gives a dictionry with words and their frequency of occurance\n",
    "- tokenizer.texts_to_matrix(text,mode = 'binary')*-----> Gives 1-hot representation\n",
    "\n",
    "\n",
    "*****************************\n",
    "\n",
    "\n",
    "\n",
    "  \n",
    "  \n",
    " \n",
    "  "
   ]
  },
  {
   "cell_type": "markdown",
   "metadata": {},
   "source": [
    "Some other ways of using Keras -- Side Note Begin"
   ]
  },
  {
   "cell_type": "code",
   "execution_count": 625,
   "metadata": {},
   "outputs": [],
   "source": [
    "\n",
    "from keras.preprocessing.text import one_hot \n",
    "from keras.preprocessing.text import hashing_trick\n",
    "from keras.preprocessing.text import text_to_word_sequence\n",
    "text = 'The quick brown fox jumped over the lazy dog.'\n",
    "words = set(text_to_word_sequence(text)) # just gives words, just vocabulary.\n",
    "\n",
    "vocab_size = len(words)\n",
    "\n",
    "intiger_encoded_hash = one_hot(text,round(len(words)*1.3))# not one hot encoding just a wrapper around hash.\n",
    "#or more flexible has option with hashin_trick , we acn specify which hashfunction like md5\n",
    "hastrick_result = hashing_trick(text, round(vocab_size*1.3), hash_function='md5')\n",
    "len(words),words,one_hotted,hastrick_result"
   ]
  },
  {
   "cell_type": "code",
   "execution_count": 626,
   "metadata": {
    "collapsed": true
   },
   "outputs": [
    {
     "data": {
      "text/plain": [
       "(8,\n",
       " {'brown', 'dog', 'fox', 'jumped', 'lazy', 'over', 'quick', 'the'},\n",
       " [7, 9, 2, 8, 2, 3, 7, 6, 5],\n",
       " [6, 4, 1, 2, 7, 5, 6, 2, 6])"
      ]
     },
     "execution_count": 626,
     "metadata": {},
     "output_type": "execute_result"
    }
   ],
   "source": [
    "len(words),words,one_hotted,hastrick_result"
   ]
  },
  {
   "cell_type": "markdown",
   "metadata": {},
   "source": [
    "Some other ways of using Keras -- Side Note End"
   ]
  },
  {
   "cell_type": "code",
   "execution_count": 620,
   "metadata": {
    "collapsed": true
   },
   "outputs": [],
   "source": [
    "padded_wordindices = pad_sequences(indices_in_words,max_words_per_doc) #pads where less , trims where more to max_words_per_doc(100)"
   ]
  },
  {
   "cell_type": "code",
   "execution_count": 602,
   "metadata": {},
   "outputs": [
    {
     "data": {
      "text/plain": [
       "(151, 139)"
      ]
     },
     "execution_count": 602,
     "metadata": {},
     "output_type": "execute_result"
    }
   ],
   "source": [
    "len(indices_in_words[3]),len(indices_in_words[73])"
   ]
  },
  {
   "cell_type": "code",
   "execution_count": 594,
   "metadata": {},
   "outputs": [
    {
     "data": {
      "text/plain": [
       "(25000, 100)"
      ]
     },
     "execution_count": 594,
     "metadata": {},
     "output_type": "execute_result"
    }
   ],
   "source": [
    "padded_wordindices.shape"
   ]
  },
  {
   "cell_type": "code",
   "execution_count": 601,
   "metadata": {},
   "outputs": [
    {
     "data": {
      "text/plain": [
       "(100, 100)"
      ]
     },
     "execution_count": 601,
     "metadata": {},
     "output_type": "execute_result"
    }
   ],
   "source": [
    "len(padded_wordindices[3]),len(padded_wordindices[73]),"
   ]
  },
  {
   "cell_type": "code",
   "execution_count": 82,
   "metadata": {
    "collapsed": true
   },
   "outputs": [
    {
     "ename": "SyntaxError",
     "evalue": "invalid syntax (<ipython-input-82-32292b751aac>, line 6)",
     "output_type": "error",
     "traceback": [
      "\u001b[1;36m  File \u001b[1;32m\"<ipython-input-82-32292b751aac>\"\u001b[1;36m, line \u001b[1;32m6\u001b[0m\n\u001b[1;33m    for i,j in itertools.product(range(10),enumerate(n):\u001b[0m\n\u001b[1;37m                                                       ^\u001b[0m\n\u001b[1;31mSyntaxError\u001b[0m\u001b[1;31m:\u001b[0m invalid syntax\n"
     ]
    }
   ],
   "source": [
    "import itertools\n",
    "\n",
    "#for i, j in itertools.product(range(len(indices_in_words)), range(len(padded_wordindices))):# dont run this loop again 25000 \n",
    "    #print(len(indices_in_words[i]),len(padded_wordindices[j]))\n",
    "n = [11,12,13,14,15,16,17]                              \n",
    "for i,j in itertools.product(range(10),enumerate(n):  \n",
    "        print(i,j)\n"
   ]
  },
  {
   "cell_type": "code",
   "execution_count": 17,
   "metadata": {},
   "outputs": [
    {
     "data": {
      "text/plain": [
       "((25000, 100), (25000,))"
      ]
     },
     "execution_count": 17,
     "metadata": {},
     "output_type": "execute_result"
    }
   ],
   "source": [
    "labels = np.asarray(labels)\n",
    "type(labels)#numpy.ndarray\n",
    "padded_wordindices.shape, labels.shape#((25000, 100), (25000,))"
   ]
  },
  {
   "cell_type": "code",
   "execution_count": 18,
   "metadata": {
    "collapsed": true
   },
   "outputs": [],
   "source": [
    "row_indices = np.arange(padded_wordindices.shape[0])# just row numbers , array([    0,     1,     2, ..., 24997, 24998, 24999])"
   ]
  },
  {
   "cell_type": "code",
   "execution_count": 19,
   "metadata": {
    "collapsed": true
   },
   "outputs": [],
   "source": [
    "np.random.shuffle(row_indices) #shuffles row indices array([ 9405, 18300, 12523, ..., 21803, 22389, 19188])"
   ]
  },
  {
   "cell_type": "code",
   "execution_count": 20,
   "metadata": {
    "collapsed": true
   },
   "outputs": [],
   "source": [
    "padded_wordindices = padded_wordindices[row_indices] # shuffled \n",
    "labels             = labels[row_indices]"
   ]
  },
  {
   "cell_type": "code",
   "execution_count": 46,
   "metadata": {
    "collapsed": true
   },
   "outputs": [],
   "source": [
    "X_train = padded_wordindices[:nu_training_docs]\n",
    "y_train = labels[:nu_training_docs]\n",
    "X_val   = padded_wordindices[nu_training_docs:nu_training_docs+nu_validation_docs]\n",
    "y_val   = labels[nu_training_docs:nu_training_docs+nu_validation_docs]\n"
   ]
  },
  {
   "cell_type": "code",
   "execution_count": 45,
   "metadata": {},
   "outputs": [
    {
     "name": "stdout",
     "output_type": "stream",
     "text": [
      "[[1 1 1]\n",
      " [2 2 2]\n",
      " [3 3 3]] [[ 4  4  4]\n",
      " [ 5  5  5]\n",
      " [ 6  6  6]\n",
      " [ 7  7  7]\n",
      " [ 8  8  8]\n",
      " [ 9  9  9]\n",
      " [10 10 10]\n",
      " [11 11 11]]\n"
     ]
    }
   ],
   "source": [
    "l = [[1,1,1],[2,2,2],[3,3,3],[4,4,4],[5,5,5],[6,6,6],[7,7,7],[8,8,8],[9,9,9],[10,10,10],[11,11,11],]\n",
    "a = np.asarray(l)\n",
    "type(a)\n",
    "a1 = a[:3]\n",
    "b = a[3:]\n",
    "print(a1,b)"
   ]
  },
  {
   "cell_type": "markdown",
   "metadata": {},
   "source": [
    "#### Time to  \"GloVe\" up"
   ]
  },
  {
   "cell_type": "code",
   "execution_count": 156,
   "metadata": {
    "collapsed": true
   },
   "outputs": [
    {
     "name": "stdout",
     "output_type": "stream",
     "text": [
      "<_io.TextIOWrapper name='D:\\\\My ML Notes\\\\Books\\\\Jason Brown Lee\\\\MY CODE\\\\glove.6Bf\\\\glove.6B.100d.txt' mode='r' encoding='utf8'>\n",
      "<class 'str'>\n",
      "the -0.038194 -0.24487 0.72812 -0.39961 0.083172 0.043953 -0.39141 0.3344 -0.57545 0.087459 0.28787 -0.06731 0.30906 -0.26384 -0.13231 -0.20757 0.33395 -0.33848 -0.31743 -0.48336 0.1464 -0.37304 0.34577 0.052041 0.44946 -0.46971 0.02628 -0.54155 -0.15518 -0.14107 -0.039722 0.28277 0.14393 0.23464 -0.31021 0.086173 0.20397 0.52624 0.17164 -0.082378 -0.71787 -0.41531 0.20335 -0.12763 0.41367 0.55187 0.57908 -0.33477 -0.36559 -0.54857 -0.062892 0.26584 0.30205 0.99775 -0.80481 -3.0243 0.01254 -0.36942 2.2167 0.72201 -0.24978 0.92136 0.034514 0.46745 1.1079 -0.19358 -0.074575 0.23353 -0.052062 -0.22044 0.057162 -0.15806 -0.30798 -0.41625 0.37972 0.15006 -0.53212 -0.2055 -1.2526 0.071624 0.70565 0.49744 -0.42063 0.26148 -1.538 -0.30223 -0.073438 -0.28312 0.37104 -0.25217 0.016215 -0.017099 -0.38984 0.87424 -0.72569 -0.51058 -0.52028 -0.1459 0.8278 0.27062\n",
      "\n",
      "<class 'list'>\n",
      "['the', '-0.038194', '-0.24487', '0.72812', '-0.39961', '0.083172', '0.043953', '-0.39141', '0.3344', '-0.57545', '0.087459', '0.28787', '-0.06731', '0.30906', '-0.26384', '-0.13231', '-0.20757', '0.33395', '-0.33848', '-0.31743', '-0.48336', '0.1464', '-0.37304', '0.34577', '0.052041', '0.44946', '-0.46971', '0.02628', '-0.54155', '-0.15518', '-0.14107', '-0.039722', '0.28277', '0.14393', '0.23464', '-0.31021', '0.086173', '0.20397', '0.52624', '0.17164', '-0.082378', '-0.71787', '-0.41531', '0.20335', '-0.12763', '0.41367', '0.55187', '0.57908', '-0.33477', '-0.36559', '-0.54857', '-0.062892', '0.26584', '0.30205', '0.99775', '-0.80481', '-3.0243', '0.01254', '-0.36942', '2.2167', '0.72201', '-0.24978', '0.92136', '0.034514', '0.46745', '1.1079', '-0.19358', '-0.074575', '0.23353', '-0.052062', '-0.22044', '0.057162', '-0.15806', '-0.30798', '-0.41625', '0.37972', '0.15006', '-0.53212', '-0.2055', '-1.2526', '0.071624', '0.70565', '0.49744', '-0.42063', '0.26148', '-1.538', '-0.30223', '-0.073438', '-0.28312', '0.37104', '-0.25217', '0.016215', '-0.017099', '-0.38984', '0.87424', '-0.72569', '-0.51058', '-0.52028', '-0.1459', '0.8278', '0.27062']\n",
      "# of word vectors found 399998\n"
     ]
    }
   ],
   "source": [
    "glove_dir = 'D:\\My ML Notes\\Books\\Jason Brown Lee\\MY CODE\\glove.6Bf'\n",
    "\n",
    "actual_glove_file = open(os.path.join(glove_dir, 'glove.6B.100d.txt'),encoding=\"utf8\") # open the glove file for readinf\n",
    "print(actual_glove_file)\n",
    "count = 0\n",
    "\n",
    "#just to see how the contents of GloVe file look, see first 2 lines. The words \"the\" and \",\" are shown with their embeding vectors\n",
    "for line  in  actual_glove_file :\n",
    "    values = line.split() # each line has format --> word floating point numbers\n",
    "    if count < 1: # print only first line\n",
    "        print(type(line))\n",
    "        print(line)\n",
    "        print(type(values))\n",
    "        print(values)\n",
    "    else:\n",
    "        break \n",
    "    count+=1\n",
    "    \n",
    "#Ok lets \n",
    "embeddings_index = {}\n",
    "for line in actual_glove_file :\n",
    "    values = line.split() # line is a string and values is a list\n",
    "    word   = values[0]\n",
    "    coefs  = np.asarray(values[1:],dtype='float32')\n",
    "    embeddings_index[word] = coefs\n",
    "# So now we have a dictionary called embeddings_index with the actual english word and its glove Coefs\n",
    "    \n",
    "actual_glove_file.close()   #close \n",
    "\n",
    "print('# of word vectors found %s' %len(embeddings_index)) # # of word vectors found 399998 , 2less than 4lac,400K\n",
    "\n",
    "\n",
    " "
   ]
  },
  {
   "cell_type": "code",
   "execution_count": 205,
   "metadata": {},
   "outputs": [
    {
     "name": "stdout",
     "output_type": "stream",
     "text": [
      "\n",
      " actual embedding vector of the english word amaneunesis is .%a\n",
      "\n",
      "None\n",
      "\n",
      " actual embedding vector of the english word *of* is .%a\n",
      "\n",
      "[-0.1529     -0.24279     0.89837003  0.16996001  0.53516001  0.48784\n",
      " -0.58825999 -0.17982    -1.35810006  0.42541     0.15377     0.24214999\n",
      "  0.13474     0.41192999  0.67043    -0.56418002  0.42985001 -0.012183\n",
      " -0.11677     0.31781     0.054177   -0.054273    0.35516    -0.30241001\n",
      "  0.31434    -0.33846     0.71714997 -0.26855001 -0.15837    -0.47466999\n",
      "  0.051581   -0.33252001  0.15003    -0.12989999 -0.54617    -0.37843001\n",
      "  0.64261001  0.82187003 -0.080006    0.078479   -0.96976    -0.57740998\n",
      "  0.56490999 -0.39873001 -0.057099    0.19743     0.065706   -0.48091999\n",
      " -0.20125    -0.40834001  0.39456001 -0.02642    -0.11838     1.01199996\n",
      " -0.53171003 -2.74740005 -0.042981   -0.74848998  1.75740004  0.59085\n",
      "  0.04885     0.78267002  0.38497001  0.42096999  0.67882001  0.10337\n",
      "  0.63279998 -0.026595    0.58647001 -0.44332001  0.33057001 -0.12022\n",
      " -0.55645001  0.073611    0.20915     0.43395001 -0.012761    0.089874\n",
      " -1.79910004  0.084808    0.77112001  0.63104999 -0.90684998  0.60325998\n",
      " -1.75150001  0.18595999 -0.50686997 -0.70203     0.66578001 -0.81304002\n",
      "  0.18712001 -0.018488   -0.26756999  0.727      -0.59363002 -0.34839001\n",
      " -0.56094003 -0.59100002  1.00390005  0.20664001]\n",
      "\n",
      "***********1st two lines of embeddings_index dictionary**********\n",
      "\n",
      " . [-0.33978999  0.20941     0.46348    -0.64792001 -0.38376999  0.038034\n",
      "  0.17127     0.15978     0.46619001 -0.019169    0.41479    -0.34349\n",
      "  0.26872     0.04464     0.42131001 -0.41032001  0.15459     0.022239\n",
      " -0.64652997  0.25255999  0.043136   -0.19445001  0.46516001  0.45651001\n",
      "  0.68588001  0.091295    0.21875    -0.70350999  0.16785    -0.35078999\n",
      " -0.12634     0.66384    -0.25819999  0.036542   -0.13605     0.40253001\n",
      "  0.14289001  0.38132    -0.12283    -0.45886001 -0.25281999 -0.30432001\n",
      " -0.11215    -0.26181999 -0.22482    -0.44554001  0.29910001 -0.85611999\n",
      " -0.14503001 -0.49085999  0.0082973  -0.17490999  0.27524     1.44009995\n",
      " -0.21239001 -2.8434999  -0.27958    -0.45721999  1.63859999  0.78807998\n",
      " -0.55261999  0.64999998  0.086426    0.39012     1.0632     -0.35378999\n",
      "  0.48328     0.34599999  0.84174001  0.098707   -0.24213    -0.27052999\n",
      "  0.045287   -0.40147001  0.11395     0.0062226   0.036673    0.018518\n",
      " -1.02129996 -0.20806     0.64072001 -0.068763   -0.58635002  0.33476001\n",
      " -1.14320004 -0.1148     -0.25091001 -0.45907    -0.096819   -0.17946\n",
      " -0.063351   -0.67412001 -0.068895    0.53604001 -0.87773001  0.31801999\n",
      " -0.39241999 -0.23394001  0.47297999 -0.028803  ]\n",
      "\n",
      " of [-0.1529     -0.24279     0.89837003  0.16996001  0.53516001  0.48784\n",
      " -0.58825999 -0.17982    -1.35810006  0.42541     0.15377     0.24214999\n",
      "  0.13474     0.41192999  0.67043    -0.56418002  0.42985001 -0.012183\n",
      " -0.11677     0.31781     0.054177   -0.054273    0.35516    -0.30241001\n",
      "  0.31434    -0.33846     0.71714997 -0.26855001 -0.15837    -0.47466999\n",
      "  0.051581   -0.33252001  0.15003    -0.12989999 -0.54617    -0.37843001\n",
      "  0.64261001  0.82187003 -0.080006    0.078479   -0.96976    -0.57740998\n",
      "  0.56490999 -0.39873001 -0.057099    0.19743     0.065706   -0.48091999\n",
      " -0.20125    -0.40834001  0.39456001 -0.02642    -0.11838     1.01199996\n",
      " -0.53171003 -2.74740005 -0.042981   -0.74848998  1.75740004  0.59085\n",
      "  0.04885     0.78267002  0.38497001  0.42096999  0.67882001  0.10337\n",
      "  0.63279998 -0.026595    0.58647001 -0.44332001  0.33057001 -0.12022\n",
      " -0.55645001  0.073611    0.20915     0.43395001 -0.012761    0.089874\n",
      " -1.79910004  0.084808    0.77112001  0.63104999 -0.90684998  0.60325998\n",
      " -1.75150001  0.18595999 -0.50686997 -0.70203     0.66578001 -0.81304002\n",
      "  0.18712001 -0.018488   -0.26756999  0.727      -0.59363002 -0.34839001\n",
      " -0.56094003 -0.59100002  1.00390005  0.20664001]\n",
      "\n",
      "***********1st two lines of embeddings_index dictionary**********\n",
      "\n",
      " . [-0.33978999  0.20941     0.46348    -0.64792001 -0.38376999  0.038034\n",
      "  0.17127     0.15978     0.46619001 -0.019169    0.41479    -0.34349\n",
      "  0.26872     0.04464     0.42131001 -0.41032001  0.15459     0.022239\n",
      " -0.64652997  0.25255999  0.043136   -0.19445001  0.46516001  0.45651001\n",
      "  0.68588001  0.091295    0.21875    -0.70350999  0.16785    -0.35078999\n",
      " -0.12634     0.66384    -0.25819999  0.036542   -0.13605     0.40253001\n",
      "  0.14289001  0.38132    -0.12283    -0.45886001 -0.25281999 -0.30432001\n",
      " -0.11215    -0.26181999 -0.22482    -0.44554001  0.29910001 -0.85611999\n",
      " -0.14503001 -0.49085999  0.0082973  -0.17490999  0.27524     1.44009995\n",
      " -0.21239001 -2.8434999  -0.27958    -0.45721999  1.63859999  0.78807998\n",
      " -0.55261999  0.64999998  0.086426    0.39012     1.0632     -0.35378999\n",
      "  0.48328     0.34599999  0.84174001  0.098707   -0.24213    -0.27052999\n",
      "  0.045287   -0.40147001  0.11395     0.0062226   0.036673    0.018518\n",
      " -1.02129996 -0.20806     0.64072001 -0.068763   -0.58635002  0.33476001\n",
      " -1.14320004 -0.1148     -0.25091001 -0.45907    -0.096819   -0.17946\n",
      " -0.063351   -0.67412001 -0.068895    0.53604001 -0.87773001  0.31801999\n",
      " -0.39241999 -0.23394001  0.47297999 -0.028803  ]\n",
      "\n",
      " of [-0.1529     -0.24279     0.89837003  0.16996001  0.53516001  0.48784\n",
      " -0.58825999 -0.17982    -1.35810006  0.42541     0.15377     0.24214999\n",
      "  0.13474     0.41192999  0.67043    -0.56418002  0.42985001 -0.012183\n",
      " -0.11677     0.31781     0.054177   -0.054273    0.35516    -0.30241001\n",
      "  0.31434    -0.33846     0.71714997 -0.26855001 -0.15837    -0.47466999\n",
      "  0.051581   -0.33252001  0.15003    -0.12989999 -0.54617    -0.37843001\n",
      "  0.64261001  0.82187003 -0.080006    0.078479   -0.96976    -0.57740998\n",
      "  0.56490999 -0.39873001 -0.057099    0.19743     0.065706   -0.48091999\n",
      " -0.20125    -0.40834001  0.39456001 -0.02642    -0.11838     1.01199996\n",
      " -0.53171003 -2.74740005 -0.042981   -0.74848998  1.75740004  0.59085\n",
      "  0.04885     0.78267002  0.38497001  0.42096999  0.67882001  0.10337\n",
      "  0.63279998 -0.026595    0.58647001 -0.44332001  0.33057001 -0.12022\n",
      " -0.55645001  0.073611    0.20915     0.43395001 -0.012761    0.089874\n",
      " -1.79910004  0.084808    0.77112001  0.63104999 -0.90684998  0.60325998\n",
      " -1.75150001  0.18595999 -0.50686997 -0.70203     0.66578001 -0.81304002\n",
      "  0.18712001 -0.018488   -0.26756999  0.727      -0.59363002 -0.34839001\n",
      " -0.56094003 -0.59100002  1.00390005  0.20664001]\n"
     ]
    }
   ],
   "source": [
    "\n",
    "type(embeddings_index.get(\"amaneunesis\"))#numpy.ndarray\n",
    "\n",
    "print(\"\\n actual embedding vector of the english word amaneunesis is \\n\"  )\n",
    "print(embeddings_index.get(\"amaneunesis\"))\n",
    "\n",
    "print(\"\\n actual embedding vector of the english word *of* is .%a\\n\"  )\n",
    "print(embeddings_index.get(\"of\"))#check 2nd line of embeddings_index printed below and compare the coefs.\n",
    "    \n",
    "\n",
    "print(\"\\n***********1st two lines of embeddings_index dictionary**********\")\n",
    "\n",
    "count = 0\n",
    "for k, v in embeddings_index.items():\n",
    "    print('\\n',k, v)    # englis word(k) , ceofs(v)\n",
    "    if count > 0:\n",
    "        break\n",
    "    count+=1\n",
    "\n",
    "#same as above\n",
    "print(\"\\n***********1st two lines of embeddings_index dictionary**********\")\n",
    "count = 0\n",
    "for i in  embeddings_index:\n",
    "    print('\\n',i,embeddings_index[i]) # englis word , ceofs\n",
    "    if count > 0:\n",
    "        break\n",
    "    count+=1    \n",
    "\n"
   ]
  },
  {
   "cell_type": "code",
   "execution_count": 572,
   "metadata": {
    "collapsed": true
   },
   "outputs": [],
   "source": [
    "dict = {}\n",
    "dict['sai'] = 1\n",
    "dict['srav'] = 5"
   ]
  },
  {
   "cell_type": "code",
   "execution_count": 581,
   "metadata": {},
   "outputs": [
    {
     "data": {
      "text/plain": [
       "(5, 1)"
      ]
     },
     "execution_count": 581,
     "metadata": {},
     "output_type": "execute_result"
    }
   ],
   "source": [
    "dict.get('srav'),dict['sai']"
   ]
  },
  {
   "cell_type": "code",
   "execution_count": 579,
   "metadata": {},
   "outputs": [
    {
     "name": "stdout",
     "output_type": "stream",
     "text": [
      "sai 1\n",
      "srav 5\n"
     ]
    }
   ],
   "source": [
    "for key,val in dict.items():\n",
    "    print(key,val)\n",
    "    "
   ]
  },
  {
   "cell_type": "code",
   "execution_count": 148,
   "metadata": {},
   "outputs": [
    {
     "name": "stdout",
     "output_type": "stream",
     "text": [
      "dict_items([])\n"
     ]
    }
   ],
   "source": [
    "print(embeddings_index.items())"
   ]
  },
  {
   "cell_type": "code",
   "execution_count": 237,
   "metadata": {
    "collapsed": true
   },
   "outputs": [],
   "source": [
    "embedding_dim = 100 # why --> 100 dimension glove 6b file     \n",
    "\n",
    "embedding_matrix = np.zeros((top_maxwords_corpus,embedding_dim))   # notice np.zeroes(inner tuple bracket), #type array\n",
    "                                                                 # notice also the embedding matirx shape is max words and embeding dim(100)\n",
    "                                                                 # Where as if we were using an embedding layer with an ML task then input shape would be a 3d tensor of shape (samples,sequence length per sample,desired emedding dimesion of embedding vector itself)        \n",
    "\n",
    "for word,its_index in word_index_dict.items():              #word_index_dict is a dict of words and their assigned indices by the tokenizer on the original corpus\n",
    "    if its_index < top_maxwords_corpus:                     #only considering 1st 10K words\n",
    "        embedding_vector = embeddings_index.get(word)       #gives the coefs of each word ( floaiting points are value pair of key the word)\n",
    "        if embedding_vector is not None:                    #if word from corpus is also found in glove file\n",
    "            embedding_matrix[its_index] = embedding_vector  #then add glove coeffs of that word into emeddings_matrix array\n",
    "                                                            #if word from corpus is not found in Glove file it will have just have the initialized values(zeros) in embedding matirx"
   ]
  },
  {
   "cell_type": "code",
   "execution_count": 239,
   "metadata": {},
   "outputs": [
    {
     "data": {
      "text/plain": [
       "10000"
      ]
     },
     "execution_count": 239,
     "metadata": {},
     "output_type": "execute_result"
    }
   ],
   "source": [
    "embedding_matrix.shape\n",
    "embedding_matrix[0:3,0:3]\n",
    "len(np.all(embedding_matrix == 0 , axis = 1))#100"
   ]
  },
  {
   "cell_type": "code",
   "execution_count": 242,
   "metadata": {
    "collapsed": true
   },
   "outputs": [
    {
     "name": "stdout",
     "output_type": "stream",
     "text": [
      "_________________________________________________________________\n",
      "Layer (type)                 Output Shape              Param #   \n",
      "=================================================================\n",
      "embedding_2 (Embedding)      (None, 100, 100)          1000000   \n",
      "_________________________________________________________________\n",
      "flatten_2 (Flatten)          (None, 10000)             0         \n",
      "_________________________________________________________________\n",
      "dense_3 (Dense)              (None, 32)                320032    \n",
      "_________________________________________________________________\n",
      "dense_4 (Dense)              (None, 1)                 33        \n",
      "=================================================================\n",
      "Total params: 1,320,065\n",
      "Trainable params: 1,320,065\n",
      "Non-trainable params: 0\n",
      "_________________________________________________________________\n"
     ]
    }
   ],
   "source": [
    "# We have the embedding matrix(with coefs from Glove) for all the words in out complex, so uild the model dcef\n",
    "\n",
    "from keras.models import Sequential\n",
    "from keras.layers import Embedding,Flatten,Dense\n",
    "\n",
    "model = Sequential()ii\n",
    "model.add(Embedding(top_maxwords_corpus, embedding_dim, input_length = max_words_per_doc ))\n",
    "model.add(Flatten())\n",
    "model.add(Dense(32,activation = 'relu'))\n",
    "model.add(Dense(1,activation = 'sigmoid'))\n",
    "model.summary()"
   ]
  },
  {
   "cell_type": "code",
   "execution_count": 270,
   "metadata": {},
   "outputs": [
    {
     "name": "stdout",
     "output_type": "stream",
     "text": [
      "3.6.7 |Anaconda 4.4.0 (64-bit)| (default, Oct 28 2018, 19:44:12) [MSC v.1915 64 bit (AMD64)]\n"
     ]
    }
   ],
   "source": [
    "import sys\n",
    "print(sys.version)"
   ]
  },
  {
   "cell_type": "code",
   "execution_count": 244,
   "metadata": {
    "collapsed": true
   },
   "outputs": [],
   "source": [
    "# Freeze the Embedding model using GloVe \n",
    "model.layers[0].set_weights([embedding_matrix]) # make the coefs mapped from the glove file the weights of 1st layer (this is now a pretrained layer)\n",
    "model.layers[0].trainable = False               # Freeze and dont train => dont adjust the glove weights you painstakenly downladed and mapped to your corpus"
   ]
  },
  {
   "cell_type": "code",
   "execution_count": 250,
   "metadata": {
    "collapsed": true
   },
   "outputs": [
    {
     "name": "stdout",
     "output_type": "stream",
     "text": [
      "Train on 200 samples, validate on 10000 samples\n",
      "Epoch 1/10\n",
      "200/200 [==============================] - 23s - loss: 1.4888 - acc: 0.4800 - val_loss: 0.6908 - val_acc: 0.5273\n",
      "Epoch 2/10\n",
      "200/200 [==============================] - 1s - loss: 0.5389 - acc: 0.7800 - val_loss: 0.9754 - val_acc: 0.5006\n",
      "Epoch 3/10\n",
      "200/200 [==============================] - 1s - loss: 0.4223 - acc: 0.8050 - val_loss: 0.8263 - val_acc: 0.5172\n",
      "Epoch 4/10\n",
      "200/200 [==============================] - 1s - loss: 0.2851 - acc: 0.9100 - val_loss: 0.7490 - val_acc: 0.5508\n",
      "Epoch 5/10\n",
      "200/200 [==============================] - 1s - loss: 0.1751 - acc: 0.9850 - val_loss: 1.0901 - val_acc: 0.5036\n",
      "Epoch 6/10\n",
      "200/200 [==============================] - 1s - loss: 0.1296 - acc: 0.9850 - val_loss: 1.0440 - val_acc: 0.5080\n",
      "Epoch 7/10\n",
      "200/200 [==============================] - 1s - loss: 0.1324 - acc: 0.9750 - val_loss: 0.9313 - val_acc: 0.5196\n",
      "Epoch 8/10\n",
      "200/200 [==============================] - 1s - loss: 0.0568 - acc: 1.0000 - val_loss: 0.7443 - val_acc: 0.5680\n",
      "Epoch 9/10\n",
      "200/200 [==============================] - 1s - loss: 0.0508 - acc: 1.0000 - val_loss: 1.8231 - val_acc: 0.5023\n",
      "Epoch 10/10\n",
      "200/200 [==============================] - 1s - loss: 0.1940 - acc: 0.8850 - val_loss: 0.7955 - val_acc: 0.5674\n"
     ]
    }
   ],
   "source": [
    "#Now that we finally defined the model ( define + freeze non trainable 1st embedding layer)\n",
    "\n",
    "#compile , fit , evaluate\n",
    "model.compile(optimizer = 'rmsprop',\n",
    "              loss = 'binary_crossentropy',\n",
    "              metrics = ['acc'])\n",
    "\n",
    "history = model.fit(X_train, y_train,\n",
    "                   epochs = 10,\n",
    "                   batch_size = 32,\n",
    "                   validation_data = (X_val,y_val))\n",
    "\n",
    "model.save_weights('model_usingGloVe vectors.h5')"
   ]
  },
  {
   "cell_type": "code",
   "execution_count": 266,
   "metadata": {},
   "outputs": [
    {
     "data": {
      "image/png": "[encoded data removed]",
      "text/plain": [
       "<matplotlib.figure.Figure at 0x279f1097400>"
      ]
     },
     "metadata": {},
     "output_type": "display_data"
    },
    {
     "data": {
      "image/png": "[encoded data removed]",
      "text/plain": [
       "<matplotlib.figure.Figure at 0x279f146f358>"
      ]
     },
     "metadata": {},
     "output_type": "display_data"
    },
    {
     "data": {
      "text/plain": [
       "<matplotlib.figure.Figure at 0x279f14dfa58>"
      ]
     },
     "metadata": {},
     "output_type": "display_data"
    }
   ],
   "source": [
    "import matplotlib.pyplot as plt\n",
    "\n",
    "acc         = history.history['acc']\n",
    "val_acc     = history.history['val_acc']\n",
    "loss        = history.history['loss']\n",
    "val_loss    = history.history['val_loss']\n",
    "\n",
    "epochs      = range(1, len(acc)+ 1 )\n",
    "\n",
    "\n",
    "plt.plot(epochs, acc, 'bo', label = 'Training Accuracy' , )\n",
    "plt.plot(epochs, acc, 'r+', label = 'Validation Accuracy')\n",
    "plt.xlabel('Epochs')\n",
    "plt.ylabel('Accuracy')\n",
    "plt.title('Training and Validation Accuracy')\n",
    "\n",
    "plt.legend()\n",
    "plt.figure()\n",
    "\n",
    "plt.plot(epochs, loss,     'bo', label = 'Training Loss')\n",
    "plt.plot(epochs, val_loss, 'r+', label = 'Validaton Loss')\n",
    "plt.xlabel('Epochs')\n",
    "plt.ylabel('Loss')\n",
    "\n",
    "plt.legend()\n",
    "plt.figure()\n",
    "\n",
    "plt.show()"
   ]
  },
  {
   "cell_type": "markdown",
   "metadata": {},
   "source": [
    "### Embedding Layer along with an ML task"
   ]
  },
  {
   "cell_type": "markdown",
   "metadata": {},
   "source": [
    "- Embedding layer takes input of 3 ip params : (smaples, sequence length for each sample, diminesion of the embedding vector itself)\n",
    "- Output of embedding is of shape 3D tensor  : (smaples, sequence length for each sample, diminesion of the embedding vector itself)"
   ]
  },
  {
   "cell_type": "markdown",
   "metadata": {
    "collapsed": true
   },
   "source": [
    "## Word Embeddings (dense vectors)"
   ]
  },
  {
   "cell_type": "markdown",
   "metadata": {},
   "source": [
    "- You shall know a word by the company it keeps\n",
    "- Learned representaion for text, where words that have same meaning have a similar representation\n",
    "- Dense and lower dimensional, floatin point vectors, so good for computation (NNs not so good with sparse high dimensional data)\n",
    "- Dense representations generalize well : Why ? - similar features (words) have similar representations\n",
    "- Each word is mapped to and represented by one vector of 10s/100s of dimensions vs 1000s/millions of dimensions needed for 1-hot encoded reps    \n",
    "- The word vector/feature vector represents different aspects of the word\n",
    "- The number of features per word is much smaller than the vocablary size itself.(10s/100s). In BoW dims = # of words.\n",
    "- Each word is mapped randomly to a predefined vector in a predefined vector space and the real values are learned.\n",
    "- In bagof words(bad-of-n-grams) model different words have different representation regardless of their similarity and recurance in similar contexts.\n",
    "- Bagof words needs to have n-grams first, not deep learning methods. Bow are usefull and mandatory with shallow models like Logistic reression, RFs etc\n",
    "- Common to see word embeddings with 256,512,1024 when dealing with large vocabs, 1-hot runs into 20K dims.\n",
    "- BoW doesnt really preserve any order of words\n",
    "- NNs dont need n-grams since they learn heirarchichcal features\n"
   ]
  },
  {
   "cell_type": "code",
   "execution_count": 603,
   "metadata": {},
   "outputs": [
    {
     "data": {
      "image/png": "[encoded data removed]",
      "text/plain": [
       "<IPython.core.display.Image object>"
      ]
     },
     "execution_count": 603,
     "metadata": {},
     "output_type": "execute_result"
    }
   ],
   "source": [
    "from IPython.display import Image\n",
    "Image(\"Ohes Vs Word Embedding vectors.png\")"
   ]
  },
  {
   "cell_type": "markdown",
   "metadata": {},
   "source": [
    "### 2 ways to learn word embeddings"
   ]
  },
  {
   "cell_type": "markdown",
   "metadata": {},
   "source": [
    "1. Learn embeddings jointly along with a main task viz. doc classification, sentiment prediction etc. Using an emedding layer\n",
    "2. Using pre-trained word embeddings"
   ]
  },
  {
   "cell_type": "markdown",
   "metadata": {},
   "source": [
    "1. Learning Jointly with Embedding as 1st layer\n",
    "\n",
    "The embedding layer at the begginig looks like below\n",
    "\n",
    "model.add(Embedding(max_words_being_considered_in vocab ,  dims_of_embedding_space, max_#ofwords_perdoc/sentence ))"
   ]
  },
  {
   "cell_type": "markdown",
   "metadata": {},
   "source": [
    "### 3 Algorithims for Word Embeddings\n",
    "\n",
    "1. Embedding layer (jointly with some NLP supervised task)\n",
    "1. Word 2 Vec : Cbow - Learns by Predicts current wordd based on context SkipGram- Leanrs by Predicts surrounding words given a current word.\n",
    "   1. Both learn from local usage context , context = window of neighbouring words\n",
    "   1. Smaller windows produce more functional and synctatic capabilities\n",
    "1. GloVe   : marries matrix factorization methods like LSA + Word2Vec\n",
    "   1. Out performs Word2Vec models in word analogy, word simmilarty and NER tasks\n",
    "   1. GloVe constructs an explicit word-context(instead of a window) or word co-occurrence matrix using statistics across the whole text corpus\n",
    "   "
   ]
  },
  {
   "cell_type": "markdown",
   "metadata": {
    "collapsed": true
   },
   "source": [
    "## BASIC STRUCTURE of different Deep Learning Models"
   ]
  },
  {
   "cell_type": "markdown",
   "metadata": {},
   "source": [
    "1. Basic ANN - 2 Keras Types and 1 TF Type. Regression and Classification\n",
    "2. RNN       - 1 Keras Type  and 1 TF Type.\n",
    "3. CNN       - 1 Keras Type  and 1 TF Type."
   ]
  },
  {
   "cell_type": "markdown",
   "metadata": {},
   "source": [
    "1st Basic NLP FLow with sklearn and Nltk"
   ]
  },
  {
   "cell_type": "code",
   "execution_count": 627,
   "metadata": {},
   "outputs": [
    {
     "name": "stdout",
     "output_type": "stream",
     "text": [
      "['Just', 'like', 'that', 'she', 'went', 'and', 'bought', 'an', 'appartment']\n"
     ]
    }
   ],
   "source": [
    "# Tokenize to/as words (words = text.split() #TOeknize)\n",
    "#Or with NLTK (tokens = word_tokenize(text) print(tokens[:100]))\n",
    "from nltk.tokenize import word_tokenize \n",
    "# load data    \n",
    "filename = 'NLP Text FIle.txt'\n",
    "file = open(filename, 'rt') \n",
    "text = file.read() \n",
    "file.close() \n",
    "# split into words \n",
    "tokens = word_tokenize(text) \n",
    "print(tokens[:100])\n"
   ]
  },
  {
   "cell_type": "code",
   "execution_count": 628,
   "metadata": {},
   "outputs": [
    {
     "name": "stdout",
     "output_type": "stream",
     "text": [
      "['i', 'me', 'my', 'myself', 'we', 'our', 'ours', 'ourselves', 'you', 'your', 'yours', 'yourself', 'yourselves', 'he', 'him', 'his', 'himself', 'she', 'her', 'hers', 'herself', 'it', 'its', 'itself', 'they', 'them', 'their', 'theirs', 'themselves', 'what', 'which', 'who', 'whom', 'this', 'that', 'these', 'those', 'am', 'is', 'are', 'was', 'were', 'be', 'been', 'being', 'have', 'has', 'had', 'having', 'do', 'does', 'did', 'doing', 'a', 'an', 'the', 'and', 'but', 'if', 'or', 'because', 'as', 'until', 'while', 'of', 'at', 'by', 'for', 'with', 'about', 'against', 'between', 'into', 'through', 'during', 'before', 'after', 'above', 'below', 'to', 'from', 'up', 'down', 'in', 'out', 'on', 'off', 'over', 'under', 'again', 'further', 'then', 'once', 'here', 'there', 'when', 'where', 'why', 'how', 'all', 'any', 'both', 'each', 'few', 'more', 'most', 'other', 'some', 'such', 'no', 'nor', 'not', 'only', 'own', 'same', 'so', 'than', 'too', 'very', 's', 't', 'can', 'will', 'just', 'don', 'should', 'now', 'd', 'll', 'm', 'o', 're', 've', 'y', 'ain', 'aren', 'couldn', 'didn', 'doesn', 'hadn', 'hasn', 'haven', 'isn', 'ma', 'mightn', 'mustn', 'needn', 'shan', 'shouldn', 'wasn', 'weren', 'won', 'wouldn']\n"
     ]
    },
    {
     "data": {
      "text/plain": [
       "list"
      ]
     },
     "execution_count": 628,
     "metadata": {},
     "output_type": "execute_result"
    }
   ],
   "source": [
    "from nltk.corpus import stopwords \n",
    "stop_words = stopwords.words('english') \n",
    "print(stop_words)\n",
    "type(stop_words)"
   ]
  },
  {
   "cell_type": "code",
   "execution_count": 631,
   "metadata": {},
   "outputs": [
    {
     "name": "stdout",
     "output_type": "stream",
     "text": [
      "['just', 'like', 'that', 'she', 'went', 'and', 'bought', 'an', 'appart']\n"
     ]
    }
   ],
   "source": [
    "from nltk.tokenize import word_tokenize \n",
    "from nltk.stem.porter import PorterStemmer \n",
    "# load data ------------------------------\n",
    "#1.Load , 2.remove punctuations, 3.turn to lower case 4.TOeknize 5.Stop wor 6.Stem 7.Vectorize(CV,TfiDF,Embedding(W2V,Emlayer))\n",
    "#8.TfIdf\n",
    "filename = 'NLP Text FIle.txt'\n",
    "\n",
    "file = open(filename, 'rt') \n",
    "text = file.read() \n",
    "file.close() \n",
    "# split into words \n",
    "tokens = word_tokenize(text) \n",
    "# stemming of words \n",
    "porter = PorterStemmer() \n",
    "stemmed = [porter.stem(word) for word in tokens] \n",
    "print(stemmed[:100])"
   ]
  },
  {
   "cell_type": "code",
   "execution_count": 637,
   "metadata": {},
   "outputs": [
    {
     "name": "stdout",
     "output_type": "stream",
     "text": [
      "{'just': 4, 'like': 5, 'that': 7, 'she': 6, 'went': 8, 'and': 1, 'bought': 3, 'an': 0, 'appart': 2}\n",
      "(9, 9)\n",
      "<class 'scipy.sparse.csr.csr_matrix'>\n",
      "[[0 0 0 0 1 0 0 0 0]\n",
      " [0 0 0 0 0 1 0 0 0]\n",
      " [0 0 0 0 0 0 0 1 0]\n",
      " [0 0 0 0 0 0 1 0 0]\n",
      " [0 0 0 0 0 0 0 0 1]\n",
      " [0 1 0 0 0 0 0 0 0]\n",
      " [0 0 0 1 0 0 0 0 0]\n",
      " [1 0 0 0 0 0 0 0 0]\n",
      " [0 0 1 0 0 0 0 0 0]]\n"
     ]
    }
   ],
   "source": [
    "from sklearn.feature_extraction.text import CountVectorizer \n",
    "# list of text documents text = [\"The quick brown fox jumped over the lazy dog.\"] \n",
    "# create the transform \n",
    "vectorizer = CountVectorizer() \n",
    "# tokenize and build vocab \n",
    "vectorizer.fit(stemmed) \n",
    "# summarize \n",
    "print(vectorizer.vocabulary_) \n",
    "# encode document \n",
    "vector = vectorizer.transform(stemmed) \n",
    "# summarize encoded vector \n",
    "print(vector.shape) \n",
    "print(type(vector)) \n",
    "print(vector.toarray())"
   ]
  },
  {
   "cell_type": "code",
   "execution_count": 638,
   "metadata": {},
   "outputs": [
    {
     "name": "stdout",
     "output_type": "stream",
     "text": [
      "{'the': 7, 'quick': 6, 'brown': 0, 'fox': 2, 'jumped': 3, 'over': 5, 'lazy': 4, 'dog': 1}\n",
      "[1.69314718 1.28768207 1.28768207 1.69314718 1.69314718 1.69314718\n",
      " 1.69314718 1.        ]\n",
      "(1, 8)\n",
      "[[0.36388646 0.27674503 0.27674503 0.36388646 0.36388646 0.36388646\n",
      "  0.36388646 0.42983441]]\n"
     ]
    },
    {
     "name": "stderr",
     "output_type": "stream",
     "text": [
      "C:\\Users\\sai_chedemala\\AppData\\Local\\Continuum\\Anaconda3\\lib\\site-packages\\sklearn\\feature_extraction\\text.py:1059: FutureWarning: Conversion of the second argument of issubdtype from `float` to `np.floating` is deprecated. In future, it will be treated as `np.float64 == np.dtype(float).type`.\n",
      "  if hasattr(X, 'dtype') and np.issubdtype(X.dtype, np.float):\n"
     ]
    }
   ],
   "source": [
    "from sklearn.feature_extraction.text import TfidfVectorizer\n",
    "# list of text documents \n",
    "text = [\"The quick brown fox jumped over the lazy dog.\", \"The dog.\", \"The fox\"] \n",
    "# create the transform \n",
    "vectorizer = TfidfVectorizer() \n",
    "# tokenize and build vocab \n",
    "vectorizer.fit(text) \n",
    "# summarize \n",
    "print(vectorizer.vocabulary_) \n",
    "print(vectorizer.idf_) \n",
    "# encode document \n",
    "vector = vectorizer.transform([text[0]])\n",
    "# summarize encoded vector \n",
    "print(vector.shape) \n",
    "print(vector.toarray())"
   ]
  },
  {
   "cell_type": "code",
   "execution_count": 639,
   "metadata": {},
   "outputs": [
    {
     "name": "stdout",
     "output_type": "stream",
     "text": [
      "(3, 20)\n",
      "[[ 0.          0.          0.          0.          0.          0.33333333\n",
      "   0.         -0.33333333  0.33333333  0.          0.          0.33333333\n",
      "   0.          0.          0.         -0.33333333  0.          0.\n",
      "  -0.66666667  0.        ]\n",
      " [ 0.          0.          0.          0.          0.          0.\n",
      "   0.          0.          0.          0.          0.          0.\n",
      "   0.         -0.70710678  0.          0.          0.          0.\n",
      "  -0.70710678  0.        ]\n",
      " [ 0.          0.          0.          0.          0.          0.\n",
      "   0.          0.          0.          0.          0.          0.\n",
      "   0.          0.          0.         -0.70710678  0.          0.\n",
      "  -0.70710678  0.        ]]\n"
     ]
    }
   ],
   "source": [
    "from sklearn.feature_extraction.text import HashingVectorizer #QD what does hashing really do ?\n",
    "# list of text documents text = [\"The quick brown fox jumped over the lazy dog.\"] \n",
    "# create the transform \n",
    "vectorizer = HashingVectorizer(n_features=20) \n",
    "# encode document \n",
    "vector = vectorizer.transform(text) \n",
    "# summarize encoded vector \n",
    "print(vector.shape) \n",
    "print(vector.toarray())"
   ]
  },
  {
   "cell_type": "markdown",
   "metadata": {},
   "source": [
    "Using Keras - basic vectrization of text"
   ]
  },
  {
   "cell_type": "code",
   "execution_count": 640,
   "metadata": {},
   "outputs": [
    {
     "data": {
      "text/plain": [
       "(8,\n",
       " {'brown', 'dog', 'fox', 'jumped', 'lazy', 'over', 'quick', 'the'},\n",
       " [7, 9, 2, 8, 2, 3, 7, 6, 5],\n",
       " [6, 4, 1, 2, 7, 5, 6, 2, 6])"
      ]
     },
     "execution_count": 640,
     "metadata": {},
     "output_type": "execute_result"
    }
   ],
   "source": [
    "\n",
    "from keras.preprocessing.text import one_hot \n",
    "from keras.preprocessing.text import hashing_trick\n",
    "from keras.preprocessing.text import text_to_word_sequence\n",
    "text = 'The quick brown fox jumped over the lazy dog.'\n",
    "words = set(text_to_word_sequence(text)) # just gives words, just vocabulary.\n",
    "\n",
    "vocab_size = len(words)\n",
    "\n",
    "intiger_encoded_hash = one_hot(text,round(len(words)*1.3))# not one hot encoding just a wrapper around hash.\n",
    "#or more flexible has option with hashin_trick , we acn specify which hashfunction like md5\n",
    "hastrick_result = hashing_trick(text, round(vocab_size*1.3), hash_function='md5')\n",
    "len(words),words,one_hotted,hastrick_result"
   ]
  },
  {
   "cell_type": "markdown",
   "metadata": {},
   "source": [
    "Tokenizer API in Keras"
   ]
  },
  {
   "cell_type": "code",
   "execution_count": 657,
   "metadata": {},
   "outputs": [
    {
     "name": "stdout",
     "output_type": "stream",
     "text": [
      "OrderedDict([('well', 2), ('done', 2), ('and', 1), ('good', 2), ('work', 3), ('great', 1), ('effort', 1), ('nice', 1), ('excellent', 1)])\n",
      "5\n",
      "{'work': 1, 'well': 2, 'done': 3, 'good': 4, 'and': 5, 'great': 6, 'effort': 7, 'nice': 8, 'excellent': 9}\n",
      "{'done': 1, 'good': 2, 'and': 1, 'well': 1, 'work': 3, 'great': 1, 'effort': 1, 'nice': 1, 'excellent': 1}\n"
     ]
    }
   ],
   "source": [
    "from keras.preprocessing.text import Tokenizer \n",
    "# define 5 documents \n",
    "docs = ['Well done and good work well done!', 'Good work', 'Great effort', 'nice work', 'Excellent!'] \n",
    "# create the tokenizer \n",
    "t = Tokenizer() \n",
    "# fit the tokenizer on the documents \n",
    "t.fit_on_texts(docs)\n",
    "# summarize what was learned \n",
    "print(t.word_counts) #frequency of words/tokens\n",
    "print(t.document_count) #total number of docs\n",
    "print(t.word_index) #Dictionary of words + indices assigned\n",
    "print(t.word_docs)  #Dictionary of words + number of docs they figure in"
   ]
  },
  {
   "cell_type": "code",
   "execution_count": 658,
   "metadata": {},
   "outputs": [
    {
     "name": "stdout",
     "output_type": "stream",
     "text": [
      "[[0. 1. 2. 2. 1. 1. 0. 0. 0. 0.]\n",
      " [0. 1. 0. 0. 1. 0. 0. 0. 0. 0.]\n",
      " [0. 0. 0. 0. 0. 0. 1. 1. 0. 0.]\n",
      " [0. 1. 0. 0. 0. 0. 0. 0. 1. 0.]\n",
      " [0. 0. 0. 0. 0. 0. 0. 0. 0. 1.]]\n",
      "(5, 10)\n"
     ]
    }
   ],
   "source": [
    "# integer encode documents --Std BOW encoding like 1-hot(inary), count vectorizer, tfidf , freq\n",
    "encoded_docs = t.texts_to_matrix(docs, mode='count') \n",
    "print(encoded_docs)\n",
    "print(encoded_docs.shape)"
   ]
  },
  {
   "cell_type": "code",
   "execution_count": 659,
   "metadata": {},
   "outputs": [
    {
     "name": "stdout",
     "output_type": "stream",
     "text": [
      "[[0. 1. 1. 1. 1. 1. 0. 0. 0. 0.]\n",
      " [0. 1. 0. 0. 1. 0. 0. 0. 0. 0.]\n",
      " [0. 0. 0. 0. 0. 0. 1. 1. 0. 0.]\n",
      " [0. 1. 0. 0. 0. 0. 0. 0. 1. 0.]\n",
      " [0. 0. 0. 0. 0. 0. 0. 0. 0. 1.]]\n",
      "(5, 10)\n"
     ]
    }
   ],
   "source": [
    "encoded_docs = t.texts_to_matrix(docs, mode='binary') \n",
    "print(encoded_docs)#notice difference in 1st row.Count gives #of times a word occurs per doc. Binary is just one-hot encoding it.\n",
    "print(encoded_docs.shape)"
   ]
  },
  {
   "cell_type": "markdown",
   "metadata": {},
   "source": [
    "- Term Frequency : is a scoring of the frequency of the word in the current document.\n",
    "- Inverse Document Frequency: is a scoring of how rare the word is across documents.\n"
   ]
  },
  {
   "cell_type": "code",
   "execution_count": 668,
   "metadata": {},
   "outputs": [
    {
     "name": "stdout",
     "output_type": "stream",
     "text": [
      "[[0.         0.81093022 2.12111209 2.12111209 0.98082925 1.25276297\n",
      "  0.         0.         0.         0.        ]\n",
      " [0.         0.81093022 0.         0.         0.98082925 0.\n",
      "  0.         0.         0.         0.        ]\n",
      " [0.         0.         0.         0.         0.         0.\n",
      "  1.25276297 1.25276297 0.         0.        ]\n",
      " [0.         0.81093022 0.         0.         0.         0.\n",
      "  0.         0.         1.25276297 0.        ]\n",
      " [0.         0.         0.         0.         0.         0.\n",
      "  0.         0.         0.         1.25276297]]\n",
      "(5, 10)\n"
     ]
    }
   ],
   "source": [
    "encoded_docs = t.texts_to_matrix(docs, mode='tfidf') \n",
    "print(encoded_docs)\n",
    "print(encoded_docs.shape)"
   ]
  },
  {
   "cell_type": "code",
   "execution_count": 669,
   "metadata": {},
   "outputs": [
    {
     "name": "stdout",
     "output_type": "stream",
     "text": [
      "[[0.         0.14285714 0.28571429 0.28571429 0.14285714 0.14285714\n",
      "  0.         0.         0.         0.        ]\n",
      " [0.         0.5        0.         0.         0.5        0.\n",
      "  0.         0.         0.         0.        ]\n",
      " [0.         0.         0.         0.         0.         0.\n",
      "  0.5        0.5        0.         0.        ]\n",
      " [0.         0.5        0.         0.         0.         0.\n",
      "  0.         0.         0.5        0.        ]\n",
      " [0.         0.         0.         0.         0.         0.\n",
      "  0.         0.         0.         1.        ]]\n",
      "(5, 10)\n"
     ]
    }
   ],
   "source": [
    "encoded_docs = t.texts_to_matrix(docs, mode='freq') #The frequency of each word as a ratio of number of words within each document.\n",
    "#Not same as mode=count\n",
    "print(encoded_docs)\n",
    "print(encoded_docs.shape)# note 2/7 = .28571 i.e words 'well' and 'done'occure twice and total of 7 words in the 1st doc."
   ]
  },
  {
   "cell_type": "markdown",
   "metadata": {},
   "source": []
  },
  {
   "cell_type": "markdown",
   "metadata": {},
   "source": []
  }
 ],
 "metadata": {
  "kernelspec": {
   "display_name": "Python 3",
   "language": "python",
   "name": "python3"
  },
  "language_info": {
   "codemirror_mode": {
    "name": "ipython",
    "version": 3
   },
   "file_extension": ".py",
   "mimetype": "text/x-python",
   "name": "python",
   "nbconvert_exporter": "python",
   "pygments_lexer": "ipython3",
   "version": "3.7.4"
  }
 },
 "nbformat": 4,
 "nbformat_minor": 2
}
